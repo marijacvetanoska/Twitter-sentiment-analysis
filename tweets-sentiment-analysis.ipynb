{
  "nbformat": 4,
  "nbformat_minor": 0,
  "metadata": {
    "colab": {
      "name": "181012-Homework-5.ipynb",
      "provenance": [],
      "collapsed_sections": []
    },
    "kernelspec": {
      "display_name": "Python 3",
      "name": "python3"
    },
    "widgets": {
      "application/vnd.jupyter.widget-state+json": {
        "2e9b2dc9edea4eb78511eec21d651700": {
          "model_module": "@jupyter-widgets/controls",
          "model_name": "HBoxModel",
          "state": {
            "_dom_classes": [],
            "_model_module": "@jupyter-widgets/controls",
            "_model_module_version": "1.5.0",
            "_model_name": "HBoxModel",
            "_view_count": null,
            "_view_module": "@jupyter-widgets/controls",
            "_view_module_version": "1.5.0",
            "_view_name": "HBoxView",
            "box_style": "",
            "children": [
              "IPY_MODEL_03627f4a966a4d88b91b99d1efca44b7",
              "IPY_MODEL_3515c912a6824f1da1c6823e235aed50"
            ],
            "layout": "IPY_MODEL_352b9b826dce455981841f2cbdb8f605"
          }
        },
        "03627f4a966a4d88b91b99d1efca44b7": {
          "model_module": "@jupyter-widgets/controls",
          "model_name": "FloatProgressModel",
          "state": {
            "_dom_classes": [],
            "_model_module": "@jupyter-widgets/controls",
            "_model_module_version": "1.5.0",
            "_model_name": "FloatProgressModel",
            "_view_count": null,
            "_view_module": "@jupyter-widgets/controls",
            "_view_module_version": "1.5.0",
            "_view_name": "ProgressView",
            "bar_style": "success",
            "description": "Downloading: 100%",
            "description_tooltip": null,
            "layout": "IPY_MODEL_f0b56a47214b4330b448c2fc904e0f2c",
            "max": 231508,
            "min": 0,
            "orientation": "horizontal",
            "style": "IPY_MODEL_d43501c6d04b4cb08ac3f124f441890f",
            "value": 231508
          }
        },
        "3515c912a6824f1da1c6823e235aed50": {
          "model_module": "@jupyter-widgets/controls",
          "model_name": "HTMLModel",
          "state": {
            "_dom_classes": [],
            "_model_module": "@jupyter-widgets/controls",
            "_model_module_version": "1.5.0",
            "_model_name": "HTMLModel",
            "_view_count": null,
            "_view_module": "@jupyter-widgets/controls",
            "_view_module_version": "1.5.0",
            "_view_name": "HTMLView",
            "description": "",
            "description_tooltip": null,
            "layout": "IPY_MODEL_93e426520ff04857a2b503562c1fb767",
            "placeholder": "​",
            "style": "IPY_MODEL_68d7f760187344309f6bfdc8475be793",
            "value": " 232k/232k [00:00&lt;00:00, 805kB/s]"
          }
        },
        "352b9b826dce455981841f2cbdb8f605": {
          "model_module": "@jupyter-widgets/base",
          "model_name": "LayoutModel",
          "state": {
            "_model_module": "@jupyter-widgets/base",
            "_model_module_version": "1.2.0",
            "_model_name": "LayoutModel",
            "_view_count": null,
            "_view_module": "@jupyter-widgets/base",
            "_view_module_version": "1.2.0",
            "_view_name": "LayoutView",
            "align_content": null,
            "align_items": null,
            "align_self": null,
            "border": null,
            "bottom": null,
            "display": null,
            "flex": null,
            "flex_flow": null,
            "grid_area": null,
            "grid_auto_columns": null,
            "grid_auto_flow": null,
            "grid_auto_rows": null,
            "grid_column": null,
            "grid_gap": null,
            "grid_row": null,
            "grid_template_areas": null,
            "grid_template_columns": null,
            "grid_template_rows": null,
            "height": null,
            "justify_content": null,
            "justify_items": null,
            "left": null,
            "margin": null,
            "max_height": null,
            "max_width": null,
            "min_height": null,
            "min_width": null,
            "object_fit": null,
            "object_position": null,
            "order": null,
            "overflow": null,
            "overflow_x": null,
            "overflow_y": null,
            "padding": null,
            "right": null,
            "top": null,
            "visibility": null,
            "width": null
          }
        },
        "f0b56a47214b4330b448c2fc904e0f2c": {
          "model_module": "@jupyter-widgets/base",
          "model_name": "LayoutModel",
          "state": {
            "_model_module": "@jupyter-widgets/base",
            "_model_module_version": "1.2.0",
            "_model_name": "LayoutModel",
            "_view_count": null,
            "_view_module": "@jupyter-widgets/base",
            "_view_module_version": "1.2.0",
            "_view_name": "LayoutView",
            "align_content": null,
            "align_items": null,
            "align_self": null,
            "border": null,
            "bottom": null,
            "display": null,
            "flex": null,
            "flex_flow": null,
            "grid_area": null,
            "grid_auto_columns": null,
            "grid_auto_flow": null,
            "grid_auto_rows": null,
            "grid_column": null,
            "grid_gap": null,
            "grid_row": null,
            "grid_template_areas": null,
            "grid_template_columns": null,
            "grid_template_rows": null,
            "height": null,
            "justify_content": null,
            "justify_items": null,
            "left": null,
            "margin": null,
            "max_height": null,
            "max_width": null,
            "min_height": null,
            "min_width": null,
            "object_fit": null,
            "object_position": null,
            "order": null,
            "overflow": null,
            "overflow_x": null,
            "overflow_y": null,
            "padding": null,
            "right": null,
            "top": null,
            "visibility": null,
            "width": null
          }
        },
        "d43501c6d04b4cb08ac3f124f441890f": {
          "model_module": "@jupyter-widgets/controls",
          "model_name": "ProgressStyleModel",
          "state": {
            "_model_module": "@jupyter-widgets/controls",
            "_model_module_version": "1.5.0",
            "_model_name": "ProgressStyleModel",
            "_view_count": null,
            "_view_module": "@jupyter-widgets/base",
            "_view_module_version": "1.2.0",
            "_view_name": "StyleView",
            "bar_color": null,
            "description_width": "initial"
          }
        },
        "93e426520ff04857a2b503562c1fb767": {
          "model_module": "@jupyter-widgets/base",
          "model_name": "LayoutModel",
          "state": {
            "_model_module": "@jupyter-widgets/base",
            "_model_module_version": "1.2.0",
            "_model_name": "LayoutModel",
            "_view_count": null,
            "_view_module": "@jupyter-widgets/base",
            "_view_module_version": "1.2.0",
            "_view_name": "LayoutView",
            "align_content": null,
            "align_items": null,
            "align_self": null,
            "border": null,
            "bottom": null,
            "display": null,
            "flex": null,
            "flex_flow": null,
            "grid_area": null,
            "grid_auto_columns": null,
            "grid_auto_flow": null,
            "grid_auto_rows": null,
            "grid_column": null,
            "grid_gap": null,
            "grid_row": null,
            "grid_template_areas": null,
            "grid_template_columns": null,
            "grid_template_rows": null,
            "height": null,
            "justify_content": null,
            "justify_items": null,
            "left": null,
            "margin": null,
            "max_height": null,
            "max_width": null,
            "min_height": null,
            "min_width": null,
            "object_fit": null,
            "object_position": null,
            "order": null,
            "overflow": null,
            "overflow_x": null,
            "overflow_y": null,
            "padding": null,
            "right": null,
            "top": null,
            "visibility": null,
            "width": null
          }
        },
        "68d7f760187344309f6bfdc8475be793": {
          "model_module": "@jupyter-widgets/controls",
          "model_name": "DescriptionStyleModel",
          "state": {
            "_model_module": "@jupyter-widgets/controls",
            "_model_module_version": "1.5.0",
            "_model_name": "DescriptionStyleModel",
            "_view_count": null,
            "_view_module": "@jupyter-widgets/base",
            "_view_module_version": "1.2.0",
            "_view_name": "StyleView",
            "description_width": ""
          }
        },
        "f6896bd142ff445991f9f2d3f7c93d47": {
          "model_module": "@jupyter-widgets/controls",
          "model_name": "HBoxModel",
          "state": {
            "_dom_classes": [],
            "_model_module": "@jupyter-widgets/controls",
            "_model_module_version": "1.5.0",
            "_model_name": "HBoxModel",
            "_view_count": null,
            "_view_module": "@jupyter-widgets/controls",
            "_view_module_version": "1.5.0",
            "_view_name": "HBoxView",
            "box_style": "",
            "children": [
              "IPY_MODEL_f2dfd332379442cd8dd32cf0d7f99c0e",
              "IPY_MODEL_1a32391391a94a37a3f35242b82005a6"
            ],
            "layout": "IPY_MODEL_67913aa2ecd644b08cd1536747efc328"
          }
        },
        "f2dfd332379442cd8dd32cf0d7f99c0e": {
          "model_module": "@jupyter-widgets/controls",
          "model_name": "FloatProgressModel",
          "state": {
            "_dom_classes": [],
            "_model_module": "@jupyter-widgets/controls",
            "_model_module_version": "1.5.0",
            "_model_name": "FloatProgressModel",
            "_view_count": null,
            "_view_module": "@jupyter-widgets/controls",
            "_view_module_version": "1.5.0",
            "_view_name": "ProgressView",
            "bar_style": "success",
            "description": "Downloading: 100%",
            "description_tooltip": null,
            "layout": "IPY_MODEL_ca02b2377a3e420aac6012995c622583",
            "max": 433,
            "min": 0,
            "orientation": "horizontal",
            "style": "IPY_MODEL_6ac192f743564a799e4c019b3977a3f4",
            "value": 433
          }
        },
        "1a32391391a94a37a3f35242b82005a6": {
          "model_module": "@jupyter-widgets/controls",
          "model_name": "HTMLModel",
          "state": {
            "_dom_classes": [],
            "_model_module": "@jupyter-widgets/controls",
            "_model_module_version": "1.5.0",
            "_model_name": "HTMLModel",
            "_view_count": null,
            "_view_module": "@jupyter-widgets/controls",
            "_view_module_version": "1.5.0",
            "_view_name": "HTMLView",
            "description": "",
            "description_tooltip": null,
            "layout": "IPY_MODEL_81715cf076ee4a2b805811781ed8080a",
            "placeholder": "​",
            "style": "IPY_MODEL_6aa5f0d8032c486e83ad167fe1179d51",
            "value": " 433/433 [00:16&lt;00:00, 26.4B/s]"
          }
        },
        "67913aa2ecd644b08cd1536747efc328": {
          "model_module": "@jupyter-widgets/base",
          "model_name": "LayoutModel",
          "state": {
            "_model_module": "@jupyter-widgets/base",
            "_model_module_version": "1.2.0",
            "_model_name": "LayoutModel",
            "_view_count": null,
            "_view_module": "@jupyter-widgets/base",
            "_view_module_version": "1.2.0",
            "_view_name": "LayoutView",
            "align_content": null,
            "align_items": null,
            "align_self": null,
            "border": null,
            "bottom": null,
            "display": null,
            "flex": null,
            "flex_flow": null,
            "grid_area": null,
            "grid_auto_columns": null,
            "grid_auto_flow": null,
            "grid_auto_rows": null,
            "grid_column": null,
            "grid_gap": null,
            "grid_row": null,
            "grid_template_areas": null,
            "grid_template_columns": null,
            "grid_template_rows": null,
            "height": null,
            "justify_content": null,
            "justify_items": null,
            "left": null,
            "margin": null,
            "max_height": null,
            "max_width": null,
            "min_height": null,
            "min_width": null,
            "object_fit": null,
            "object_position": null,
            "order": null,
            "overflow": null,
            "overflow_x": null,
            "overflow_y": null,
            "padding": null,
            "right": null,
            "top": null,
            "visibility": null,
            "width": null
          }
        },
        "ca02b2377a3e420aac6012995c622583": {
          "model_module": "@jupyter-widgets/base",
          "model_name": "LayoutModel",
          "state": {
            "_model_module": "@jupyter-widgets/base",
            "_model_module_version": "1.2.0",
            "_model_name": "LayoutModel",
            "_view_count": null,
            "_view_module": "@jupyter-widgets/base",
            "_view_module_version": "1.2.0",
            "_view_name": "LayoutView",
            "align_content": null,
            "align_items": null,
            "align_self": null,
            "border": null,
            "bottom": null,
            "display": null,
            "flex": null,
            "flex_flow": null,
            "grid_area": null,
            "grid_auto_columns": null,
            "grid_auto_flow": null,
            "grid_auto_rows": null,
            "grid_column": null,
            "grid_gap": null,
            "grid_row": null,
            "grid_template_areas": null,
            "grid_template_columns": null,
            "grid_template_rows": null,
            "height": null,
            "justify_content": null,
            "justify_items": null,
            "left": null,
            "margin": null,
            "max_height": null,
            "max_width": null,
            "min_height": null,
            "min_width": null,
            "object_fit": null,
            "object_position": null,
            "order": null,
            "overflow": null,
            "overflow_x": null,
            "overflow_y": null,
            "padding": null,
            "right": null,
            "top": null,
            "visibility": null,
            "width": null
          }
        },
        "6ac192f743564a799e4c019b3977a3f4": {
          "model_module": "@jupyter-widgets/controls",
          "model_name": "ProgressStyleModel",
          "state": {
            "_model_module": "@jupyter-widgets/controls",
            "_model_module_version": "1.5.0",
            "_model_name": "ProgressStyleModel",
            "_view_count": null,
            "_view_module": "@jupyter-widgets/base",
            "_view_module_version": "1.2.0",
            "_view_name": "StyleView",
            "bar_color": null,
            "description_width": "initial"
          }
        },
        "81715cf076ee4a2b805811781ed8080a": {
          "model_module": "@jupyter-widgets/base",
          "model_name": "LayoutModel",
          "state": {
            "_model_module": "@jupyter-widgets/base",
            "_model_module_version": "1.2.0",
            "_model_name": "LayoutModel",
            "_view_count": null,
            "_view_module": "@jupyter-widgets/base",
            "_view_module_version": "1.2.0",
            "_view_name": "LayoutView",
            "align_content": null,
            "align_items": null,
            "align_self": null,
            "border": null,
            "bottom": null,
            "display": null,
            "flex": null,
            "flex_flow": null,
            "grid_area": null,
            "grid_auto_columns": null,
            "grid_auto_flow": null,
            "grid_auto_rows": null,
            "grid_column": null,
            "grid_gap": null,
            "grid_row": null,
            "grid_template_areas": null,
            "grid_template_columns": null,
            "grid_template_rows": null,
            "height": null,
            "justify_content": null,
            "justify_items": null,
            "left": null,
            "margin": null,
            "max_height": null,
            "max_width": null,
            "min_height": null,
            "min_width": null,
            "object_fit": null,
            "object_position": null,
            "order": null,
            "overflow": null,
            "overflow_x": null,
            "overflow_y": null,
            "padding": null,
            "right": null,
            "top": null,
            "visibility": null,
            "width": null
          }
        },
        "6aa5f0d8032c486e83ad167fe1179d51": {
          "model_module": "@jupyter-widgets/controls",
          "model_name": "DescriptionStyleModel",
          "state": {
            "_model_module": "@jupyter-widgets/controls",
            "_model_module_version": "1.5.0",
            "_model_name": "DescriptionStyleModel",
            "_view_count": null,
            "_view_module": "@jupyter-widgets/base",
            "_view_module_version": "1.2.0",
            "_view_name": "StyleView",
            "description_width": ""
          }
        },
        "9c938c9c15c940b88a253a7a14e4ab9b": {
          "model_module": "@jupyter-widgets/controls",
          "model_name": "HBoxModel",
          "state": {
            "_dom_classes": [],
            "_model_module": "@jupyter-widgets/controls",
            "_model_module_version": "1.5.0",
            "_model_name": "HBoxModel",
            "_view_count": null,
            "_view_module": "@jupyter-widgets/controls",
            "_view_module_version": "1.5.0",
            "_view_name": "HBoxView",
            "box_style": "",
            "children": [
              "IPY_MODEL_d9cd8bf0763349e9bda26deaa02d55b6",
              "IPY_MODEL_6adbaeb19e9347e9aa9ba6ae9d8b485f"
            ],
            "layout": "IPY_MODEL_1f59d26ee80041ddb72985ece54cfa15"
          }
        },
        "d9cd8bf0763349e9bda26deaa02d55b6": {
          "model_module": "@jupyter-widgets/controls",
          "model_name": "FloatProgressModel",
          "state": {
            "_dom_classes": [],
            "_model_module": "@jupyter-widgets/controls",
            "_model_module_version": "1.5.0",
            "_model_name": "FloatProgressModel",
            "_view_count": null,
            "_view_module": "@jupyter-widgets/controls",
            "_view_module_version": "1.5.0",
            "_view_name": "ProgressView",
            "bar_style": "success",
            "description": "Downloading: 100%",
            "description_tooltip": null,
            "layout": "IPY_MODEL_06b33c6746094e0db5c33ef7b17516ff",
            "max": 440473133,
            "min": 0,
            "orientation": "horizontal",
            "style": "IPY_MODEL_7039c882f0ee48d79b9918c90d3b82bb",
            "value": 440473133
          }
        },
        "6adbaeb19e9347e9aa9ba6ae9d8b485f": {
          "model_module": "@jupyter-widgets/controls",
          "model_name": "HTMLModel",
          "state": {
            "_dom_classes": [],
            "_model_module": "@jupyter-widgets/controls",
            "_model_module_version": "1.5.0",
            "_model_name": "HTMLModel",
            "_view_count": null,
            "_view_module": "@jupyter-widgets/controls",
            "_view_module_version": "1.5.0",
            "_view_name": "HTMLView",
            "description": "",
            "description_tooltip": null,
            "layout": "IPY_MODEL_dcd3daacd1584b2798d9b5ab25d45a0a",
            "placeholder": "​",
            "style": "IPY_MODEL_34a648e8b5ec477ca3cee62e29e36208",
            "value": " 440M/440M [00:15&lt;00:00, 27.6MB/s]"
          }
        },
        "1f59d26ee80041ddb72985ece54cfa15": {
          "model_module": "@jupyter-widgets/base",
          "model_name": "LayoutModel",
          "state": {
            "_model_module": "@jupyter-widgets/base",
            "_model_module_version": "1.2.0",
            "_model_name": "LayoutModel",
            "_view_count": null,
            "_view_module": "@jupyter-widgets/base",
            "_view_module_version": "1.2.0",
            "_view_name": "LayoutView",
            "align_content": null,
            "align_items": null,
            "align_self": null,
            "border": null,
            "bottom": null,
            "display": null,
            "flex": null,
            "flex_flow": null,
            "grid_area": null,
            "grid_auto_columns": null,
            "grid_auto_flow": null,
            "grid_auto_rows": null,
            "grid_column": null,
            "grid_gap": null,
            "grid_row": null,
            "grid_template_areas": null,
            "grid_template_columns": null,
            "grid_template_rows": null,
            "height": null,
            "justify_content": null,
            "justify_items": null,
            "left": null,
            "margin": null,
            "max_height": null,
            "max_width": null,
            "min_height": null,
            "min_width": null,
            "object_fit": null,
            "object_position": null,
            "order": null,
            "overflow": null,
            "overflow_x": null,
            "overflow_y": null,
            "padding": null,
            "right": null,
            "top": null,
            "visibility": null,
            "width": null
          }
        },
        "06b33c6746094e0db5c33ef7b17516ff": {
          "model_module": "@jupyter-widgets/base",
          "model_name": "LayoutModel",
          "state": {
            "_model_module": "@jupyter-widgets/base",
            "_model_module_version": "1.2.0",
            "_model_name": "LayoutModel",
            "_view_count": null,
            "_view_module": "@jupyter-widgets/base",
            "_view_module_version": "1.2.0",
            "_view_name": "LayoutView",
            "align_content": null,
            "align_items": null,
            "align_self": null,
            "border": null,
            "bottom": null,
            "display": null,
            "flex": null,
            "flex_flow": null,
            "grid_area": null,
            "grid_auto_columns": null,
            "grid_auto_flow": null,
            "grid_auto_rows": null,
            "grid_column": null,
            "grid_gap": null,
            "grid_row": null,
            "grid_template_areas": null,
            "grid_template_columns": null,
            "grid_template_rows": null,
            "height": null,
            "justify_content": null,
            "justify_items": null,
            "left": null,
            "margin": null,
            "max_height": null,
            "max_width": null,
            "min_height": null,
            "min_width": null,
            "object_fit": null,
            "object_position": null,
            "order": null,
            "overflow": null,
            "overflow_x": null,
            "overflow_y": null,
            "padding": null,
            "right": null,
            "top": null,
            "visibility": null,
            "width": null
          }
        },
        "7039c882f0ee48d79b9918c90d3b82bb": {
          "model_module": "@jupyter-widgets/controls",
          "model_name": "ProgressStyleModel",
          "state": {
            "_model_module": "@jupyter-widgets/controls",
            "_model_module_version": "1.5.0",
            "_model_name": "ProgressStyleModel",
            "_view_count": null,
            "_view_module": "@jupyter-widgets/base",
            "_view_module_version": "1.2.0",
            "_view_name": "StyleView",
            "bar_color": null,
            "description_width": "initial"
          }
        },
        "dcd3daacd1584b2798d9b5ab25d45a0a": {
          "model_module": "@jupyter-widgets/base",
          "model_name": "LayoutModel",
          "state": {
            "_model_module": "@jupyter-widgets/base",
            "_model_module_version": "1.2.0",
            "_model_name": "LayoutModel",
            "_view_count": null,
            "_view_module": "@jupyter-widgets/base",
            "_view_module_version": "1.2.0",
            "_view_name": "LayoutView",
            "align_content": null,
            "align_items": null,
            "align_self": null,
            "border": null,
            "bottom": null,
            "display": null,
            "flex": null,
            "flex_flow": null,
            "grid_area": null,
            "grid_auto_columns": null,
            "grid_auto_flow": null,
            "grid_auto_rows": null,
            "grid_column": null,
            "grid_gap": null,
            "grid_row": null,
            "grid_template_areas": null,
            "grid_template_columns": null,
            "grid_template_rows": null,
            "height": null,
            "justify_content": null,
            "justify_items": null,
            "left": null,
            "margin": null,
            "max_height": null,
            "max_width": null,
            "min_height": null,
            "min_width": null,
            "object_fit": null,
            "object_position": null,
            "order": null,
            "overflow": null,
            "overflow_x": null,
            "overflow_y": null,
            "padding": null,
            "right": null,
            "top": null,
            "visibility": null,
            "width": null
          }
        },
        "34a648e8b5ec477ca3cee62e29e36208": {
          "model_module": "@jupyter-widgets/controls",
          "model_name": "DescriptionStyleModel",
          "state": {
            "_model_module": "@jupyter-widgets/controls",
            "_model_module_version": "1.5.0",
            "_model_name": "DescriptionStyleModel",
            "_view_count": null,
            "_view_module": "@jupyter-widgets/base",
            "_view_module_version": "1.2.0",
            "_view_name": "StyleView",
            "description_width": ""
          }
        },
        "2097561fb6f44f858442d45d615d7e87": {
          "model_module": "@jupyter-widgets/controls",
          "model_name": "HBoxModel",
          "state": {
            "_dom_classes": [],
            "_model_module": "@jupyter-widgets/controls",
            "_model_module_version": "1.5.0",
            "_model_name": "HBoxModel",
            "_view_count": null,
            "_view_module": "@jupyter-widgets/controls",
            "_view_module_version": "1.5.0",
            "_view_name": "HBoxView",
            "box_style": "",
            "children": [
              "IPY_MODEL_853846ab1b66402da6e601deaa656426",
              "IPY_MODEL_22caa1b4f070470899f20d88357197f6"
            ],
            "layout": "IPY_MODEL_f732704334064248950b29dda88d7abb"
          }
        },
        "853846ab1b66402da6e601deaa656426": {
          "model_module": "@jupyter-widgets/controls",
          "model_name": "FloatProgressModel",
          "state": {
            "_dom_classes": [],
            "_model_module": "@jupyter-widgets/controls",
            "_model_module_version": "1.5.0",
            "_model_name": "FloatProgressModel",
            "_view_count": null,
            "_view_module": "@jupyter-widgets/controls",
            "_view_module_version": "1.5.0",
            "_view_name": "ProgressView",
            "bar_style": "",
            "description": "  0%",
            "description_tooltip": null,
            "layout": "IPY_MODEL_60919e353537496280584dc506739424",
            "max": 1,
            "min": 0,
            "orientation": "horizontal",
            "style": "IPY_MODEL_a8d56c67a7154f66978b0b6b37cfbbb4",
            "value": 0
          }
        },
        "22caa1b4f070470899f20d88357197f6": {
          "model_module": "@jupyter-widgets/controls",
          "model_name": "HTMLModel",
          "state": {
            "_dom_classes": [],
            "_model_module": "@jupyter-widgets/controls",
            "_model_module_version": "1.5.0",
            "_model_name": "HTMLModel",
            "_view_count": null,
            "_view_module": "@jupyter-widgets/controls",
            "_view_module_version": "1.5.0",
            "_view_name": "HTMLView",
            "description": "",
            "description_tooltip": null,
            "layout": "IPY_MODEL_e886e04c40b24850a3ef2044d97c1983",
            "placeholder": "​",
            "style": "IPY_MODEL_a3fb9a9ba83f4b2e886ef5d5db680fbd",
            "value": " 0/1 [3:10:20&lt;?, ?it/s]"
          }
        },
        "f732704334064248950b29dda88d7abb": {
          "model_module": "@jupyter-widgets/base",
          "model_name": "LayoutModel",
          "state": {
            "_model_module": "@jupyter-widgets/base",
            "_model_module_version": "1.2.0",
            "_model_name": "LayoutModel",
            "_view_count": null,
            "_view_module": "@jupyter-widgets/base",
            "_view_module_version": "1.2.0",
            "_view_name": "LayoutView",
            "align_content": null,
            "align_items": null,
            "align_self": null,
            "border": null,
            "bottom": null,
            "display": null,
            "flex": null,
            "flex_flow": null,
            "grid_area": null,
            "grid_auto_columns": null,
            "grid_auto_flow": null,
            "grid_auto_rows": null,
            "grid_column": null,
            "grid_gap": null,
            "grid_row": null,
            "grid_template_areas": null,
            "grid_template_columns": null,
            "grid_template_rows": null,
            "height": null,
            "justify_content": null,
            "justify_items": null,
            "left": null,
            "margin": null,
            "max_height": null,
            "max_width": null,
            "min_height": null,
            "min_width": null,
            "object_fit": null,
            "object_position": null,
            "order": null,
            "overflow": null,
            "overflow_x": null,
            "overflow_y": null,
            "padding": null,
            "right": null,
            "top": null,
            "visibility": null,
            "width": null
          }
        },
        "60919e353537496280584dc506739424": {
          "model_module": "@jupyter-widgets/base",
          "model_name": "LayoutModel",
          "state": {
            "_model_module": "@jupyter-widgets/base",
            "_model_module_version": "1.2.0",
            "_model_name": "LayoutModel",
            "_view_count": null,
            "_view_module": "@jupyter-widgets/base",
            "_view_module_version": "1.2.0",
            "_view_name": "LayoutView",
            "align_content": null,
            "align_items": null,
            "align_self": null,
            "border": null,
            "bottom": null,
            "display": null,
            "flex": null,
            "flex_flow": null,
            "grid_area": null,
            "grid_auto_columns": null,
            "grid_auto_flow": null,
            "grid_auto_rows": null,
            "grid_column": null,
            "grid_gap": null,
            "grid_row": null,
            "grid_template_areas": null,
            "grid_template_columns": null,
            "grid_template_rows": null,
            "height": null,
            "justify_content": null,
            "justify_items": null,
            "left": null,
            "margin": null,
            "max_height": null,
            "max_width": null,
            "min_height": null,
            "min_width": null,
            "object_fit": null,
            "object_position": null,
            "order": null,
            "overflow": null,
            "overflow_x": null,
            "overflow_y": null,
            "padding": null,
            "right": null,
            "top": null,
            "visibility": null,
            "width": null
          }
        },
        "a8d56c67a7154f66978b0b6b37cfbbb4": {
          "model_module": "@jupyter-widgets/controls",
          "model_name": "ProgressStyleModel",
          "state": {
            "_model_module": "@jupyter-widgets/controls",
            "_model_module_version": "1.5.0",
            "_model_name": "ProgressStyleModel",
            "_view_count": null,
            "_view_module": "@jupyter-widgets/base",
            "_view_module_version": "1.2.0",
            "_view_name": "StyleView",
            "bar_color": null,
            "description_width": "initial"
          }
        },
        "e886e04c40b24850a3ef2044d97c1983": {
          "model_module": "@jupyter-widgets/base",
          "model_name": "LayoutModel",
          "state": {
            "_model_module": "@jupyter-widgets/base",
            "_model_module_version": "1.2.0",
            "_model_name": "LayoutModel",
            "_view_count": null,
            "_view_module": "@jupyter-widgets/base",
            "_view_module_version": "1.2.0",
            "_view_name": "LayoutView",
            "align_content": null,
            "align_items": null,
            "align_self": null,
            "border": null,
            "bottom": null,
            "display": null,
            "flex": null,
            "flex_flow": null,
            "grid_area": null,
            "grid_auto_columns": null,
            "grid_auto_flow": null,
            "grid_auto_rows": null,
            "grid_column": null,
            "grid_gap": null,
            "grid_row": null,
            "grid_template_areas": null,
            "grid_template_columns": null,
            "grid_template_rows": null,
            "height": null,
            "justify_content": null,
            "justify_items": null,
            "left": null,
            "margin": null,
            "max_height": null,
            "max_width": null,
            "min_height": null,
            "min_width": null,
            "object_fit": null,
            "object_position": null,
            "order": null,
            "overflow": null,
            "overflow_x": null,
            "overflow_y": null,
            "padding": null,
            "right": null,
            "top": null,
            "visibility": null,
            "width": null
          }
        },
        "a3fb9a9ba83f4b2e886ef5d5db680fbd": {
          "model_module": "@jupyter-widgets/controls",
          "model_name": "DescriptionStyleModel",
          "state": {
            "_model_module": "@jupyter-widgets/controls",
            "_model_module_version": "1.5.0",
            "_model_name": "DescriptionStyleModel",
            "_view_count": null,
            "_view_module": "@jupyter-widgets/base",
            "_view_module_version": "1.2.0",
            "_view_name": "StyleView",
            "description_width": ""
          }
        },
        "b66aabd4f9834645bb7e4382fed45389": {
          "model_module": "@jupyter-widgets/controls",
          "model_name": "HBoxModel",
          "state": {
            "_dom_classes": [],
            "_model_module": "@jupyter-widgets/controls",
            "_model_module_version": "1.5.0",
            "_model_name": "HBoxModel",
            "_view_count": null,
            "_view_module": "@jupyter-widgets/controls",
            "_view_module_version": "1.5.0",
            "_view_name": "HBoxView",
            "box_style": "",
            "children": [
              "IPY_MODEL_d846f69992814b949989d429ee644e54",
              "IPY_MODEL_de800caa46d646908e1ec8282dc019b4"
            ],
            "layout": "IPY_MODEL_09043e6c8eee43f4b85c41fd0a96d0df"
          }
        },
        "d846f69992814b949989d429ee644e54": {
          "model_module": "@jupyter-widgets/controls",
          "model_name": "FloatProgressModel",
          "state": {
            "_dom_classes": [],
            "_model_module": "@jupyter-widgets/controls",
            "_model_module_version": "1.5.0",
            "_model_name": "FloatProgressModel",
            "_view_count": null,
            "_view_module": "@jupyter-widgets/controls",
            "_view_module_version": "1.5.0",
            "_view_name": "ProgressView",
            "bar_style": "",
            "description": "Epoch 1: 100%",
            "description_tooltip": null,
            "layout": "IPY_MODEL_5c63595b84474329a1a89c2d27311d29",
            "max": 1523,
            "min": 0,
            "orientation": "horizontal",
            "style": "IPY_MODEL_bb29c40ccb3f4fce9a4baf278897aff8",
            "value": 1523
          }
        },
        "de800caa46d646908e1ec8282dc019b4": {
          "model_module": "@jupyter-widgets/controls",
          "model_name": "HTMLModel",
          "state": {
            "_dom_classes": [],
            "_model_module": "@jupyter-widgets/controls",
            "_model_module_version": "1.5.0",
            "_model_name": "HTMLModel",
            "_view_count": null,
            "_view_module": "@jupyter-widgets/controls",
            "_view_module_version": "1.5.0",
            "_view_name": "HTMLView",
            "description": "",
            "description_tooltip": null,
            "layout": "IPY_MODEL_9f6b6846debb4f5a81244e583700661b",
            "placeholder": "​",
            "style": "IPY_MODEL_577b45dee4d7497f996a6969a2bd400f",
            "value": " 1523/1523 [3:10:20&lt;00:00,  6.57s/it, training_loss=0.005]"
          }
        },
        "09043e6c8eee43f4b85c41fd0a96d0df": {
          "model_module": "@jupyter-widgets/base",
          "model_name": "LayoutModel",
          "state": {
            "_model_module": "@jupyter-widgets/base",
            "_model_module_version": "1.2.0",
            "_model_name": "LayoutModel",
            "_view_count": null,
            "_view_module": "@jupyter-widgets/base",
            "_view_module_version": "1.2.0",
            "_view_name": "LayoutView",
            "align_content": null,
            "align_items": null,
            "align_self": null,
            "border": null,
            "bottom": null,
            "display": null,
            "flex": null,
            "flex_flow": null,
            "grid_area": null,
            "grid_auto_columns": null,
            "grid_auto_flow": null,
            "grid_auto_rows": null,
            "grid_column": null,
            "grid_gap": null,
            "grid_row": null,
            "grid_template_areas": null,
            "grid_template_columns": null,
            "grid_template_rows": null,
            "height": null,
            "justify_content": null,
            "justify_items": null,
            "left": null,
            "margin": null,
            "max_height": null,
            "max_width": null,
            "min_height": null,
            "min_width": null,
            "object_fit": null,
            "object_position": null,
            "order": null,
            "overflow": null,
            "overflow_x": null,
            "overflow_y": null,
            "padding": null,
            "right": null,
            "top": null,
            "visibility": null,
            "width": null
          }
        },
        "5c63595b84474329a1a89c2d27311d29": {
          "model_module": "@jupyter-widgets/base",
          "model_name": "LayoutModel",
          "state": {
            "_model_module": "@jupyter-widgets/base",
            "_model_module_version": "1.2.0",
            "_model_name": "LayoutModel",
            "_view_count": null,
            "_view_module": "@jupyter-widgets/base",
            "_view_module_version": "1.2.0",
            "_view_name": "LayoutView",
            "align_content": null,
            "align_items": null,
            "align_self": null,
            "border": null,
            "bottom": null,
            "display": null,
            "flex": null,
            "flex_flow": null,
            "grid_area": null,
            "grid_auto_columns": null,
            "grid_auto_flow": null,
            "grid_auto_rows": null,
            "grid_column": null,
            "grid_gap": null,
            "grid_row": null,
            "grid_template_areas": null,
            "grid_template_columns": null,
            "grid_template_rows": null,
            "height": null,
            "justify_content": null,
            "justify_items": null,
            "left": null,
            "margin": null,
            "max_height": null,
            "max_width": null,
            "min_height": null,
            "min_width": null,
            "object_fit": null,
            "object_position": null,
            "order": null,
            "overflow": null,
            "overflow_x": null,
            "overflow_y": null,
            "padding": null,
            "right": null,
            "top": null,
            "visibility": null,
            "width": null
          }
        },
        "bb29c40ccb3f4fce9a4baf278897aff8": {
          "model_module": "@jupyter-widgets/controls",
          "model_name": "ProgressStyleModel",
          "state": {
            "_model_module": "@jupyter-widgets/controls",
            "_model_module_version": "1.5.0",
            "_model_name": "ProgressStyleModel",
            "_view_count": null,
            "_view_module": "@jupyter-widgets/base",
            "_view_module_version": "1.2.0",
            "_view_name": "StyleView",
            "bar_color": null,
            "description_width": "initial"
          }
        },
        "9f6b6846debb4f5a81244e583700661b": {
          "model_module": "@jupyter-widgets/base",
          "model_name": "LayoutModel",
          "state": {
            "_model_module": "@jupyter-widgets/base",
            "_model_module_version": "1.2.0",
            "_model_name": "LayoutModel",
            "_view_count": null,
            "_view_module": "@jupyter-widgets/base",
            "_view_module_version": "1.2.0",
            "_view_name": "LayoutView",
            "align_content": null,
            "align_items": null,
            "align_self": null,
            "border": null,
            "bottom": null,
            "display": null,
            "flex": null,
            "flex_flow": null,
            "grid_area": null,
            "grid_auto_columns": null,
            "grid_auto_flow": null,
            "grid_auto_rows": null,
            "grid_column": null,
            "grid_gap": null,
            "grid_row": null,
            "grid_template_areas": null,
            "grid_template_columns": null,
            "grid_template_rows": null,
            "height": null,
            "justify_content": null,
            "justify_items": null,
            "left": null,
            "margin": null,
            "max_height": null,
            "max_width": null,
            "min_height": null,
            "min_width": null,
            "object_fit": null,
            "object_position": null,
            "order": null,
            "overflow": null,
            "overflow_x": null,
            "overflow_y": null,
            "padding": null,
            "right": null,
            "top": null,
            "visibility": null,
            "width": null
          }
        },
        "577b45dee4d7497f996a6969a2bd400f": {
          "model_module": "@jupyter-widgets/controls",
          "model_name": "DescriptionStyleModel",
          "state": {
            "_model_module": "@jupyter-widgets/controls",
            "_model_module_version": "1.5.0",
            "_model_name": "DescriptionStyleModel",
            "_view_count": null,
            "_view_module": "@jupyter-widgets/base",
            "_view_module_version": "1.2.0",
            "_view_name": "StyleView",
            "description_width": ""
          }
        },
        "5b5bc270a59746428a9cb0c10faa39ad": {
          "model_module": "@jupyter-widgets/controls",
          "model_name": "HBoxModel",
          "state": {
            "_dom_classes": [],
            "_model_module": "@jupyter-widgets/controls",
            "_model_module_version": "1.5.0",
            "_model_name": "HBoxModel",
            "_view_count": null,
            "_view_module": "@jupyter-widgets/controls",
            "_view_module_version": "1.5.0",
            "_view_name": "HBoxView",
            "box_style": "",
            "children": [
              "IPY_MODEL_6b8526da3b514ae1bf4688abc24eebba",
              "IPY_MODEL_9d901959a4874cbaa3dc0ef2b159fadd"
            ],
            "layout": "IPY_MODEL_f93db7bb32bc4843b5f0c5dc5ed1b172"
          }
        },
        "6b8526da3b514ae1bf4688abc24eebba": {
          "model_module": "@jupyter-widgets/controls",
          "model_name": "FloatProgressModel",
          "state": {
            "_dom_classes": [],
            "_model_module": "@jupyter-widgets/controls",
            "_model_module_version": "1.5.0",
            "_model_name": "FloatProgressModel",
            "_view_count": null,
            "_view_module": "@jupyter-widgets/controls",
            "_view_module_version": "1.5.0",
            "_view_name": "ProgressView",
            "bar_style": "",
            "description": "  1%",
            "description_tooltip": null,
            "layout": "IPY_MODEL_664aec952e544e21bbbf981283fafb0e",
            "max": 381,
            "min": 0,
            "orientation": "horizontal",
            "style": "IPY_MODEL_d5c61036172c47f9b8f30dea03538686",
            "value": 3
          }
        },
        "9d901959a4874cbaa3dc0ef2b159fadd": {
          "model_module": "@jupyter-widgets/controls",
          "model_name": "HTMLModel",
          "state": {
            "_dom_classes": [],
            "_model_module": "@jupyter-widgets/controls",
            "_model_module_version": "1.5.0",
            "_model_name": "HTMLModel",
            "_view_count": null,
            "_view_module": "@jupyter-widgets/controls",
            "_view_module_version": "1.5.0",
            "_view_name": "HTMLView",
            "description": "",
            "description_tooltip": null,
            "layout": "IPY_MODEL_df246322a7874a36954df9f7d1e6d890",
            "placeholder": "​",
            "style": "IPY_MODEL_2dda11b1ca3644b383cf43b95e319b35",
            "value": " 381/381 [1:01:54&lt;00:00,  9.75s/it]"
          }
        },
        "f93db7bb32bc4843b5f0c5dc5ed1b172": {
          "model_module": "@jupyter-widgets/base",
          "model_name": "LayoutModel",
          "state": {
            "_model_module": "@jupyter-widgets/base",
            "_model_module_version": "1.2.0",
            "_model_name": "LayoutModel",
            "_view_count": null,
            "_view_module": "@jupyter-widgets/base",
            "_view_module_version": "1.2.0",
            "_view_name": "LayoutView",
            "align_content": null,
            "align_items": null,
            "align_self": null,
            "border": null,
            "bottom": null,
            "display": null,
            "flex": null,
            "flex_flow": null,
            "grid_area": null,
            "grid_auto_columns": null,
            "grid_auto_flow": null,
            "grid_auto_rows": null,
            "grid_column": null,
            "grid_gap": null,
            "grid_row": null,
            "grid_template_areas": null,
            "grid_template_columns": null,
            "grid_template_rows": null,
            "height": null,
            "justify_content": null,
            "justify_items": null,
            "left": null,
            "margin": null,
            "max_height": null,
            "max_width": null,
            "min_height": null,
            "min_width": null,
            "object_fit": null,
            "object_position": null,
            "order": null,
            "overflow": null,
            "overflow_x": null,
            "overflow_y": null,
            "padding": null,
            "right": null,
            "top": null,
            "visibility": null,
            "width": null
          }
        },
        "664aec952e544e21bbbf981283fafb0e": {
          "model_module": "@jupyter-widgets/base",
          "model_name": "LayoutModel",
          "state": {
            "_model_module": "@jupyter-widgets/base",
            "_model_module_version": "1.2.0",
            "_model_name": "LayoutModel",
            "_view_count": null,
            "_view_module": "@jupyter-widgets/base",
            "_view_module_version": "1.2.0",
            "_view_name": "LayoutView",
            "align_content": null,
            "align_items": null,
            "align_self": null,
            "border": null,
            "bottom": null,
            "display": null,
            "flex": null,
            "flex_flow": null,
            "grid_area": null,
            "grid_auto_columns": null,
            "grid_auto_flow": null,
            "grid_auto_rows": null,
            "grid_column": null,
            "grid_gap": null,
            "grid_row": null,
            "grid_template_areas": null,
            "grid_template_columns": null,
            "grid_template_rows": null,
            "height": null,
            "justify_content": null,
            "justify_items": null,
            "left": null,
            "margin": null,
            "max_height": null,
            "max_width": null,
            "min_height": null,
            "min_width": null,
            "object_fit": null,
            "object_position": null,
            "order": null,
            "overflow": null,
            "overflow_x": null,
            "overflow_y": null,
            "padding": null,
            "right": null,
            "top": null,
            "visibility": null,
            "width": null
          }
        },
        "d5c61036172c47f9b8f30dea03538686": {
          "model_module": "@jupyter-widgets/controls",
          "model_name": "ProgressStyleModel",
          "state": {
            "_model_module": "@jupyter-widgets/controls",
            "_model_module_version": "1.5.0",
            "_model_name": "ProgressStyleModel",
            "_view_count": null,
            "_view_module": "@jupyter-widgets/base",
            "_view_module_version": "1.2.0",
            "_view_name": "StyleView",
            "bar_color": null,
            "description_width": "initial"
          }
        },
        "df246322a7874a36954df9f7d1e6d890": {
          "model_module": "@jupyter-widgets/base",
          "model_name": "LayoutModel",
          "state": {
            "_model_module": "@jupyter-widgets/base",
            "_model_module_version": "1.2.0",
            "_model_name": "LayoutModel",
            "_view_count": null,
            "_view_module": "@jupyter-widgets/base",
            "_view_module_version": "1.2.0",
            "_view_name": "LayoutView",
            "align_content": null,
            "align_items": null,
            "align_self": null,
            "border": null,
            "bottom": null,
            "display": null,
            "flex": null,
            "flex_flow": null,
            "grid_area": null,
            "grid_auto_columns": null,
            "grid_auto_flow": null,
            "grid_auto_rows": null,
            "grid_column": null,
            "grid_gap": null,
            "grid_row": null,
            "grid_template_areas": null,
            "grid_template_columns": null,
            "grid_template_rows": null,
            "height": null,
            "justify_content": null,
            "justify_items": null,
            "left": null,
            "margin": null,
            "max_height": null,
            "max_width": null,
            "min_height": null,
            "min_width": null,
            "object_fit": null,
            "object_position": null,
            "order": null,
            "overflow": null,
            "overflow_x": null,
            "overflow_y": null,
            "padding": null,
            "right": null,
            "top": null,
            "visibility": null,
            "width": null
          }
        },
        "2dda11b1ca3644b383cf43b95e319b35": {
          "model_module": "@jupyter-widgets/controls",
          "model_name": "DescriptionStyleModel",
          "state": {
            "_model_module": "@jupyter-widgets/controls",
            "_model_module_version": "1.5.0",
            "_model_name": "DescriptionStyleModel",
            "_view_count": null,
            "_view_module": "@jupyter-widgets/base",
            "_view_module_version": "1.2.0",
            "_view_name": "StyleView",
            "description_width": ""
          }
        }
      }
    }
  },
  "cells": [
    {
      "cell_type": "markdown",
      "metadata": {
        "id": "r4CnlFmQnf7j"
      },
      "source": [
        "\r\n",
        "<font size = 4 color='Orange'>\r\n",
        "Learning Goals</font>\r\n",
        "\r\n",
        "<font color = 'Orange' size = 3 >In this Exercise your goal is to make a good solution for the active competition on kaggle: https://www.kaggle.com/c/nlp-getting-started/overview\r\n",
        "\r\n",
        "<font color = 'Orange' size = 3 > In order to download the Datasets you will need to join and accept the terms and conditions of the competition. </foont>\r\n",
        "\r\n",
        "You need to report the parameters for the best three models into a table that will contain the model architecture and F1 score.\r\n",
        "</font>\r\n",
        "\r\n",
        "<font color = 'Orange' size = 4 > Structure of the Dataset </font>\r\n",
        "\r\n",
        "<font color = 'Orange' size = 3>\r\n",
        "The Dataset it's divided on two parts for training and testing. For the testing part you need to map the id's with the sample_submission.csv, where the target column is located.</li>\r\n",
        "</font>\r\n",
        "\r\n",
        "<font color = 'Orange' size = 4 >Instructions</font>\r\n",
        "<ul>\r\n",
        "<font color = 'Orange'>\r\n",
        "Try to train different kinds of NN's structures\r\n",
        "\r\n",
        "<li>Choose the number of layers your model will have</li>\r\n",
        "<li>Add Embedding Layer for the text</li>\r\n",
        "<li>Choose the types of layers your model will have: CNN, LSTM, GRU, RNN, Dense,...</li>\r\n",
        "<li>Choose the number of neurons in each hidden layer</li>\r\n",
        "<li>Choose activation function for each layer: relu, sigmoid, softmax, softsign, linear,... </li>\r\n",
        "<li>Choose the loss function for compiling: mean_squared_error, mean_absolute_error, root_mean_squared_error,....</li>\r\n",
        "<li>Choose the optimizer function for compiling: adam, adagrad, adamax, sgd,....</li>\r\n",
        "<li>Choose the number of epochs and the batch size for the training part</li>\r\n",
        "</ul>\r\n",
        "\r\n",
        "</font>\r\n",
        "<font color = 'Orange' size = 4 >\r\n",
        "Report the parameters of the three best models in a table with the given columns:\r\n",
        "</font>\r\n",
        "<ul>\r\n",
        "<font color = 'Orange'>\r\n",
        "<li>Number of the model</li>\r\n",
        "<li>Number of layers</li>\r\n",
        "<li>Types of layers</li>\r\n",
        "<li>Activation function for each layer</li>\r\n",
        "<li>Number of epochs</li>\r\n",
        "<li>Batch size</li>\r\n",
        "<li>Loss function</li>\r\n",
        "<li>Optimizer function for compiling</li>\r\n",
        "<li>F1 score for the prediction of the test part (this is the metric for rating the models)</li>\r\n",
        "</ul>\r\n",
        "<font color = 'Orange' size = 4 >Transformers based models</font>\r\n",
        "\r\n",
        "<font color = 'Orange' size = 3 > Create a model that will use some of the pretrained BERT, RoBERTa, XLNet, XLM ... models for Text Classification [Hugging Face](https://huggingface.co/transformers/quicktour.html). \r\n",
        "\r\n",
        "Report the following parameters for models based on Transformers</font>\r\n",
        "<ul>\r\n",
        "<font color='orange'>\r\n",
        "<li> Pretrained model</li>\r\n",
        "\r\n",
        "<li>Loss function</li>\r\n",
        "<li>Optimizer function for compiling</li>\r\n",
        "<li>F1 score for the prediction of the test part (this is the metric for rating the models)\r\n",
        "</li>\r\n",
        "\r\n",
        "</ul>\r\n",
        "</font>"
      ]
    },
    {
      "cell_type": "code",
      "metadata": {
        "colab": {
          "base_uri": "https://localhost:8080/"
        },
        "id": "5w2yWd2RklFe",
        "outputId": "77bad5ec-518f-4af3-d88b-b2b1e5823576"
      },
      "source": [
        "from google.colab import drive\n",
        "drive.mount('/content/drive')"
      ],
      "execution_count": null,
      "outputs": [
        {
          "output_type": "stream",
          "text": [
            "Mounted at /content/drive\n"
          ],
          "name": "stdout"
        }
      ]
    },
    {
      "cell_type": "code",
      "metadata": {
        "id": "M5fgr8yJzTUJ"
      },
      "source": [
        "import pandas as pd\r\n",
        "import numpy as np\r\n",
        "\r\n",
        "train = pd.read_csv('/content/drive/MyDrive/datasets/train.csv')\r\n",
        "test = pd.read_csv('/content/drive/MyDrive/datasets/test.csv')"
      ],
      "execution_count": null,
      "outputs": []
    },
    {
      "cell_type": "code",
      "metadata": {
        "id": "rdrhKc9blA3h"
      },
      "source": [
        "X = train['text']\r\n",
        "Y = train['target']"
      ],
      "execution_count": null,
      "outputs": []
    },
    {
      "cell_type": "code",
      "metadata": {
        "id": "93HEaqC9j4Y8"
      },
      "source": [
        "from sklearn.model_selection import train_test_split\r\n",
        "\r\n",
        "X_train, X_test, Y_train, Y_test = train_test_split(X, Y, test_size=0.2)"
      ],
      "execution_count": null,
      "outputs": []
    },
    {
      "cell_type": "code",
      "metadata": {
        "colab": {
          "base_uri": "https://localhost:8080/",
          "height": 350
        },
        "id": "AG2evOBUoYv_",
        "outputId": "989689f4-5a7d-4767-b61a-263d7ead7081"
      },
      "source": [
        "import matplotlib.pyplot as plt\r\n",
        "import seaborn as sns\r\n",
        "%matplotlib inline\r\n",
        "\r\n",
        "\r\n",
        "# 1 - Disaster\r\n",
        "# 0 - Not a Disaster\r\n",
        "sns.countplot(train['target'])"
      ],
      "execution_count": null,
      "outputs": [
        {
          "output_type": "stream",
          "text": [
            "/usr/local/lib/python3.6/dist-packages/seaborn/_decorators.py:43: FutureWarning: Pass the following variable as a keyword arg: x. From version 0.12, the only valid positional argument will be `data`, and passing other arguments without an explicit keyword will result in an error or misinterpretation.\n",
            "  FutureWarning\n"
          ],
          "name": "stderr"
        },
        {
          "output_type": "execute_result",
          "data": {
            "text/plain": [
              "<matplotlib.axes._subplots.AxesSubplot at 0x7f55779f60b8>"
            ]
          },
          "metadata": {
            "tags": []
          },
          "execution_count": 5
        },
        {
          "output_type": "display_data",
          "data": {
            "image/png": "[encoded data removed]",
            "text/plain": [
              "<Figure size 432x288 with 1 Axes>"
            ]
          },
          "metadata": {
            "tags": []
          }
        }
      ]
    },
    {
      "cell_type": "code",
      "metadata": {
        "id": "v1OnA0REqWKj"
      },
      "source": [
        "from keras_preprocessing.text import Tokenizer\r\n",
        "\r\n",
        "vocab_size = 10000\r\n",
        "tokenizer = Tokenizer(num_words=vocab_size)"
      ],
      "execution_count": null,
      "outputs": []
    },
    {
      "cell_type": "code",
      "metadata": {
        "id": "kr-1IKXzqxSg"
      },
      "source": [
        "tokenizer.fit_on_texts(list(X_train))\r\n",
        "X_train = tokenizer.texts_to_sequences(X_train)\r\n",
        "X_test = tokenizer.texts_to_sequences(X_test)"
      ],
      "execution_count": null,
      "outputs": []
    },
    {
      "cell_type": "code",
      "metadata": {
        "colab": {
          "base_uri": "https://localhost:8080/",
          "height": 266
        },
        "id": "ockTdYDQrWhr",
        "outputId": "fa5121ff-a894-47cd-89cf-d84b1de5fa0f"
      },
      "source": [
        "numWords = [len(comment) for comment in X_train]\r\n",
        "plt.hist(numWords, bins=30)\r\n",
        "plt.show()"
      ],
      "execution_count": null,
      "outputs": [
        {
          "output_type": "display_data",
          "data": {
            "image/png": "[encoded data removed]",
            "text/plain": [
              "<Figure size 432x288 with 1 Axes>"
            ]
          },
          "metadata": {
            "tags": []
          }
        }
      ]
    },
    {
      "cell_type": "code",
      "metadata": {
        "id": "kGeS_VUbslCi"
      },
      "source": [
        "from keras.preprocessing import sequence\r\n",
        "\r\n",
        "max_words = 100\r\n",
        "X_train = sequence.pad_sequences(X_train, maxlen=max_words)\r\n",
        "X_test = sequence.pad_sequences(X_test, maxlen=max_words)"
      ],
      "execution_count": null,
      "outputs": []
    },
    {
      "cell_type": "code",
      "metadata": {
        "id": "819Fa9OCIq8-"
      },
      "source": [
        "models = []"
      ],
      "execution_count": null,
      "outputs": []
    },
    {
      "cell_type": "code",
      "metadata": {
        "id": "_DwtCSIyxJUl"
      },
      "source": [
        "from keras.models import Sequential\r\n",
        "from keras.layers import Dense, Embedding, Conv1D, MaxPooling1D, RNN, GRU, LSTM, Flatten, Bidirectional, Dropout\r\n",
        "from sklearn.metrics import accuracy_score, confusion_matrix, classification_report"
      ],
      "execution_count": null,
      "outputs": []
    },
    {
      "cell_type": "code",
      "metadata": {
        "id": "FWwM1JS2yF3U"
      },
      "source": [
        "model = Sequential()\r\n",
        "\r\n",
        "model.add(Embedding(vocab_size, 150, input_length=X_train.shape[1]))\r\n",
        "model.add(Conv1D(filters=64, kernel_size=4, activation='relu', padding='same'))\r\n",
        "model.add(MaxPooling1D(pool_size=2))\r\n",
        "model.add(LSTM(64, dropout=0.2, recurrent_dropout=0.2))\r\n",
        "model.add(Dense(1, activation='sigmoid'))\r\n"
      ],
      "execution_count": null,
      "outputs": []
    },
    {
      "cell_type": "code",
      "metadata": {
        "id": "Wc_9IMJS0svD"
      },
      "source": [
        "model.compile(loss='binary_crossentropy', optimizer='adam', metrics=['accuracy'])"
      ],
      "execution_count": null,
      "outputs": []
    },
    {
      "cell_type": "code",
      "metadata": {
        "colab": {
          "base_uri": "https://localhost:8080/"
        },
        "id": "sG_v8tjO0329",
        "outputId": "9d4980e4-9d3d-426b-af97-81c9696cd51c"
      },
      "source": [
        "model.fit(X_train, Y_train, epochs=5, batch_size=200, verbose=2, validation_split=0.2)"
      ],
      "execution_count": null,
      "outputs": [
        {
          "output_type": "stream",
          "text": [
            "Epoch 1/5\n",
            "25/25 - 11s - loss: 0.6610 - accuracy: 0.6002 - val_loss: 0.6140 - val_accuracy: 0.6642\n",
            "Epoch 2/5\n",
            "25/25 - 7s - loss: 0.4819 - accuracy: 0.7755 - val_loss: 0.4581 - val_accuracy: 0.7997\n",
            "Epoch 3/5\n",
            "25/25 - 7s - loss: 0.2660 - accuracy: 0.8990 - val_loss: 0.5111 - val_accuracy: 0.7906\n",
            "Epoch 4/5\n",
            "25/25 - 7s - loss: 0.1628 - accuracy: 0.9427 - val_loss: 0.5926 - val_accuracy: 0.7833\n",
            "Epoch 5/5\n",
            "25/25 - 7s - loss: 0.1090 - accuracy: 0.9616 - val_loss: 0.7255 - val_accuracy: 0.7578\n"
          ],
          "name": "stdout"
        },
        {
          "output_type": "execute_result",
          "data": {
            "text/plain": [
              "<tensorflow.python.keras.callbacks.History at 0x7f5541e62208>"
            ]
          },
          "metadata": {
            "tags": []
          },
          "execution_count": 14
        }
      ]
    },
    {
      "cell_type": "code",
      "metadata": {
        "id": "sQ_B0Eyzs8Jg"
      },
      "source": [
        "y_pred = model.predict(X_test)"
      ],
      "execution_count": null,
      "outputs": []
    },
    {
      "cell_type": "code",
      "metadata": {
        "id": "oGyqjxPQyx6X"
      },
      "source": [
        "from sklearn.metrics import f1_score"
      ],
      "execution_count": null,
      "outputs": []
    },
    {
      "cell_type": "code",
      "metadata": {
        "colab": {
          "base_uri": "https://localhost:8080/"
        },
        "id": "qH2OYONotCCq",
        "outputId": "fb68cd26-9934-4d9e-fd34-596746e00704"
      },
      "source": [
        "print(f1_score(Y_test, y_pred.round()))"
      ],
      "execution_count": null,
      "outputs": [
        {
          "output_type": "stream",
          "text": [
            "0.7387661843107388\n"
          ],
          "name": "stdout"
        }
      ]
    },
    {
      "cell_type": "code",
      "metadata": {
        "id": "fMH0RQi9z0WS"
      },
      "source": [
        "models.append([\"1\", \"5\", \"Embedding, Conv1D, MaxPooling, LSTM, Dense\", \"relu, sigmoid\", \"5\", \"200\", \"binary crossentropy\", \"adam\", \"0.739\"])"
      ],
      "execution_count": null,
      "outputs": []
    },
    {
      "cell_type": "code",
      "metadata": {
        "id": "3wdOOz72k-Ad"
      },
      "source": [
        "model = Sequential()\r\n",
        "\r\n",
        "model.add(Embedding(vocab_size, 150, input_length=X_train.shape[1]))\r\n",
        "model.add(LSTM(32))\r\n",
        "model.add(Dense(3, activation='relu'))\r\n",
        "model.add(Dense(8, activation='relu'))\r\n",
        "model.add(Dropout(0.3))\r\n",
        "model.add(Dense(1, activation='sigmoid'))"
      ],
      "execution_count": null,
      "outputs": []
    },
    {
      "cell_type": "code",
      "metadata": {
        "id": "VClGpYN-l7xw"
      },
      "source": [
        "model.compile(loss='binary_crossentropy', optimizer='adam', metrics=['accuracy'])"
      ],
      "execution_count": null,
      "outputs": []
    },
    {
      "cell_type": "code",
      "metadata": {
        "colab": {
          "base_uri": "https://localhost:8080/"
        },
        "id": "bojz04Jul9M-",
        "outputId": "aab0751a-f189-4ee0-8c4a-61247c8ede77"
      },
      "source": [
        "model.fit(X_train, Y_train, epochs=8, batch_size=256, verbose=2, validation_split=0.2)"
      ],
      "execution_count": null,
      "outputs": [
        {
          "output_type": "stream",
          "text": [
            "Epoch 1/8\n",
            "20/20 - 6s - loss: 0.6878 - accuracy: 0.6129 - val_loss: 0.6796 - val_accuracy: 0.6240\n",
            "Epoch 2/8\n",
            "20/20 - 4s - loss: 0.6361 - accuracy: 0.7128 - val_loss: 0.6279 - val_accuracy: 0.7397\n",
            "Epoch 3/8\n",
            "20/20 - 4s - loss: 0.5643 - accuracy: 0.8069 - val_loss: 0.5796 - val_accuracy: 0.7709\n",
            "Epoch 4/8\n",
            "20/20 - 4s - loss: 0.5061 - accuracy: 0.8676 - val_loss: 0.5886 - val_accuracy: 0.7742\n",
            "Epoch 5/8\n",
            "20/20 - 4s - loss: 0.4679 - accuracy: 0.8929 - val_loss: 0.5889 - val_accuracy: 0.7800\n",
            "Epoch 6/8\n",
            "20/20 - 4s - loss: 0.4457 - accuracy: 0.9050 - val_loss: 0.6157 - val_accuracy: 0.7800\n",
            "Epoch 7/8\n",
            "20/20 - 4s - loss: 0.4270 - accuracy: 0.9163 - val_loss: 0.6768 - val_accuracy: 0.7660\n",
            "Epoch 8/8\n",
            "20/20 - 4s - loss: 0.4122 - accuracy: 0.9193 - val_loss: 0.6330 - val_accuracy: 0.7759\n"
          ],
          "name": "stdout"
        },
        {
          "output_type": "execute_result",
          "data": {
            "text/plain": [
              "<tensorflow.python.keras.callbacks.History at 0x7f553e78f748>"
            ]
          },
          "metadata": {
            "tags": []
          },
          "execution_count": 19
        }
      ]
    },
    {
      "cell_type": "code",
      "metadata": {
        "colab": {
          "base_uri": "https://localhost:8080/"
        },
        "id": "zqB07_Xknoxh",
        "outputId": "ed773218-2cc7-4c02-ff96-51272574bfbf"
      },
      "source": [
        "y_pred = model.predict(X_test)\r\n",
        "print(f1_score(Y_test, y_pred.round()))"
      ],
      "execution_count": null,
      "outputs": [
        {
          "output_type": "stream",
          "text": [
            "0.7450657894736842\n"
          ],
          "name": "stdout"
        }
      ]
    },
    {
      "cell_type": "code",
      "metadata": {
        "id": "3QZJlfHb0Xzc"
      },
      "source": [
        "models.append([\"2\", \"6\", \"Embedding, LSTM, Dense, Dropout\", \"relu, sigmoid\", \"8\", \"256\", \"binary crossentropy\", \"adam\", \"0.745\"])"
      ],
      "execution_count": null,
      "outputs": []
    },
    {
      "cell_type": "code",
      "metadata": {
        "id": "sRNCj5WWDmJ4"
      },
      "source": [
        "model = Sequential()\r\n",
        "\r\n",
        "\r\n",
        "model.add(Embedding(vocab_size, 150, input_length=X_train.shape[1]))\r\n",
        "model.add(GRU(16, dropout=0.3, recurrent_dropout=0.3))\r\n",
        "model.add(Dense(16, activation='linear'))\r\n",
        "model.add(Dropout(0.2))\r\n",
        "model.add(Dense(32, activation='linear'))\r\n",
        "model.add(Dropout(0.3))\r\n",
        "model.add(Dense(1, activation='sigmoid'))"
      ],
      "execution_count": null,
      "outputs": []
    },
    {
      "cell_type": "code",
      "metadata": {
        "id": "_zuHlTaHEOc9"
      },
      "source": [
        "model.compile(loss='binary_crossentropy', optimizer='adam', metrics=['accuracy'])"
      ],
      "execution_count": null,
      "outputs": []
    },
    {
      "cell_type": "code",
      "metadata": {
        "colab": {
          "base_uri": "https://localhost:8080/"
        },
        "id": "UmItHVjYEO0I",
        "outputId": "3775f248-fef2-4281-b819-f0395f179d12"
      },
      "source": [
        "model.fit(X_train, Y_train, epochs=5, batch_size=200, verbose=2, validation_split=0.2)"
      ],
      "execution_count": null,
      "outputs": [
        {
          "output_type": "stream",
          "text": [
            "Epoch 1/5\n",
            "25/25 - 10s - loss: 0.6776 - accuracy: 0.5714 - val_loss: 0.6502 - val_accuracy: 0.6338\n",
            "Epoch 2/5\n",
            "25/25 - 7s - loss: 0.6138 - accuracy: 0.6611 - val_loss: 0.6091 - val_accuracy: 0.6642\n",
            "Epoch 3/5\n",
            "25/25 - 7s - loss: 0.4596 - accuracy: 0.7943 - val_loss: 0.5221 - val_accuracy: 0.7718\n",
            "Epoch 4/5\n",
            "25/25 - 7s - loss: 0.2627 - accuracy: 0.8994 - val_loss: 0.5872 - val_accuracy: 0.7685\n",
            "Epoch 5/5\n",
            "25/25 - 7s - loss: 0.1657 - accuracy: 0.9423 - val_loss: 0.7327 - val_accuracy: 0.7578\n"
          ],
          "name": "stdout"
        },
        {
          "output_type": "execute_result",
          "data": {
            "text/plain": [
              "<tensorflow.python.keras.callbacks.History at 0x7f553148c7b8>"
            ]
          },
          "metadata": {
            "tags": []
          },
          "execution_count": 40
        }
      ]
    },
    {
      "cell_type": "code",
      "metadata": {
        "colab": {
          "base_uri": "https://localhost:8080/"
        },
        "id": "FMG6-bkqERtK",
        "outputId": "60ff2fe6-268b-48ee-bdb2-5849dc73e170"
      },
      "source": [
        "y_pred = model.predict(X_test)\r\n",
        "print(f1_score(Y_test, y_pred.round()))"
      ],
      "execution_count": null,
      "outputs": [
        {
          "output_type": "stream",
          "text": [
            "0.7328125000000001\n"
          ],
          "name": "stdout"
        }
      ]
    },
    {
      "cell_type": "code",
      "metadata": {
        "id": "EgUyUELc0o69"
      },
      "source": [
        "models.append([\"3\", \"7\", \"Embedding, GRU, Dense, Dropout\", \"linear, sigmoid\", \"6\", \"200\", \"binary crossentropy\", \"adam\", \"0.733\"])"
      ],
      "execution_count": null,
      "outputs": []
    },
    {
      "cell_type": "code",
      "metadata": {
        "id": "PpF65CBV2ULO"
      },
      "source": [
        "import numpy as np\r\n",
        "\r\n",
        "df = pd.DataFrame(np.array(models), columns=['Model No.', 'No. of layers', 'Types of layers', 'Activation functions', 'Epochs', 'Batch size', 'Loss function', 'Optimizer', 'F1 score'])"
      ],
      "execution_count": null,
      "outputs": []
    },
    {
      "cell_type": "code",
      "metadata": {
        "colab": {
          "base_uri": "https://localhost:8080/",
          "height": 142
        },
        "id": "iv03RDmp246B",
        "outputId": "e73755d3-44cf-4e30-ef99-d88135474f74"
      },
      "source": [
        "df"
      ],
      "execution_count": null,
      "outputs": [
        {
          "output_type": "execute_result",
          "data": {
            "text/html": [
              "<div>\n",
              "<style scoped>\n",
              "    .dataframe tbody tr th:only-of-type {\n",
              "        vertical-align: middle;\n",
              "    }\n",
              "\n",
              "    .dataframe tbody tr th {\n",
              "        vertical-align: top;\n",
              "    }\n",
              "\n",
              "    .dataframe thead th {\n",
              "        text-align: right;\n",
              "    }\n",
              "</style>\n",
              "<table border=\"1\" class=\"dataframe\">\n",
              "  <thead>\n",
              "    <tr style=\"text-align: right;\">\n",
              "      <th></th>\n",
              "      <th>Model No.</th>\n",
              "      <th>No. of layers</th>\n",
              "      <th>Types of layers</th>\n",
              "      <th>Activation functions</th>\n",
              "      <th>Epochs</th>\n",
              "      <th>Batch size</th>\n",
              "      <th>Loss function</th>\n",
              "      <th>Optimizer</th>\n",
              "      <th>F1 score</th>\n",
              "    </tr>\n",
              "  </thead>\n",
              "  <tbody>\n",
              "    <tr>\n",
              "      <th>0</th>\n",
              "      <td>1</td>\n",
              "      <td>5</td>\n",
              "      <td>Embedding, Conv1D, MaxPooling, LSTM, Dense</td>\n",
              "      <td>relu, sigmoid</td>\n",
              "      <td>5</td>\n",
              "      <td>200</td>\n",
              "      <td>binary crossentropy</td>\n",
              "      <td>adam</td>\n",
              "      <td>0.739</td>\n",
              "    </tr>\n",
              "    <tr>\n",
              "      <th>1</th>\n",
              "      <td>2</td>\n",
              "      <td>6</td>\n",
              "      <td>Embedding, LSTM, Dense, Dropout</td>\n",
              "      <td>relu, sigmoid</td>\n",
              "      <td>8</td>\n",
              "      <td>256</td>\n",
              "      <td>binary crossentropy</td>\n",
              "      <td>adam</td>\n",
              "      <td>0.745</td>\n",
              "    </tr>\n",
              "    <tr>\n",
              "      <th>2</th>\n",
              "      <td>3</td>\n",
              "      <td>7</td>\n",
              "      <td>Embedding, GRU, Dense, Dropout</td>\n",
              "      <td>linear, sigmoid</td>\n",
              "      <td>6</td>\n",
              "      <td>200</td>\n",
              "      <td>binary crossentropy</td>\n",
              "      <td>adam</td>\n",
              "      <td>0.733</td>\n",
              "    </tr>\n",
              "  </tbody>\n",
              "</table>\n",
              "</div>"
            ],
            "text/plain": [
              "  Model No. No. of layers  ... Optimizer F1 score\n",
              "0         1             5  ...      adam    0.739\n",
              "1         2             6  ...      adam    0.745\n",
              "2         3             7  ...      adam    0.733\n",
              "\n",
              "[3 rows x 9 columns]"
            ]
          },
          "metadata": {
            "tags": []
          },
          "execution_count": 53
        }
      ]
    },
    {
      "cell_type": "code",
      "metadata": {
        "colab": {
          "base_uri": "https://localhost:8080/"
        },
        "id": "0UGbbaDMdEYD",
        "outputId": "40e4bd0d-e2d1-4c12-c6eb-f39e542f8ae2"
      },
      "source": [
        "!pip install transformers"
      ],
      "execution_count": null,
      "outputs": [
        {
          "output_type": "stream",
          "text": [
            "Collecting transformers\n",
            "\u001b[?25l  Downloading https://files.pythonhosted.org/packages/50/0c/7d5950fcd80b029be0a8891727ba21e0cd27692c407c51261c3c921f6da3/transformers-4.1.1-py3-none-any.whl (1.5MB)\n",
            "\r\u001b[K     |▏                               | 10kB 17.2MB/s eta 0:00:01\r\u001b[K     |▍                               | 20kB 24.0MB/s eta 0:00:01\r\u001b[K     |▋                               | 30kB 15.2MB/s eta 0:00:01\r\u001b[K     |▉                               | 40kB 11.0MB/s eta 0:00:01\r\u001b[K     |█                               | 51kB 8.0MB/s eta 0:00:01\r\u001b[K     |█▎                              | 61kB 8.3MB/s eta 0:00:01\r\u001b[K     |█▌                              | 71kB 7.9MB/s eta 0:00:01\r\u001b[K     |█▊                              | 81kB 8.7MB/s eta 0:00:01\r\u001b[K     |██                              | 92kB 8.5MB/s eta 0:00:01\r\u001b[K     |██▏                             | 102kB 9.1MB/s eta 0:00:01\r\u001b[K     |██▍                             | 112kB 9.1MB/s eta 0:00:01\r\u001b[K     |██▋                             | 122kB 9.1MB/s eta 0:00:01\r\u001b[K     |██▉                             | 133kB 9.1MB/s eta 0:00:01\r\u001b[K     |███                             | 143kB 9.1MB/s eta 0:00:01\r\u001b[K     |███▎                            | 153kB 9.1MB/s eta 0:00:01\r\u001b[K     |███▌                            | 163kB 9.1MB/s eta 0:00:01\r\u001b[K     |███▊                            | 174kB 9.1MB/s eta 0:00:01\r\u001b[K     |████                            | 184kB 9.1MB/s eta 0:00:01\r\u001b[K     |████▏                           | 194kB 9.1MB/s eta 0:00:01\r\u001b[K     |████▎                           | 204kB 9.1MB/s eta 0:00:01\r\u001b[K     |████▌                           | 215kB 9.1MB/s eta 0:00:01\r\u001b[K     |████▊                           | 225kB 9.1MB/s eta 0:00:01\r\u001b[K     |█████                           | 235kB 9.1MB/s eta 0:00:01\r\u001b[K     |█████▏                          | 245kB 9.1MB/s eta 0:00:01\r\u001b[K     |█████▍                          | 256kB 9.1MB/s eta 0:00:01\r\u001b[K     |█████▋                          | 266kB 9.1MB/s eta 0:00:01\r\u001b[K     |█████▉                          | 276kB 9.1MB/s eta 0:00:01\r\u001b[K     |██████                          | 286kB 9.1MB/s eta 0:00:01\r\u001b[K     |██████▎                         | 296kB 9.1MB/s eta 0:00:01\r\u001b[K     |██████▌                         | 307kB 9.1MB/s eta 0:00:01\r\u001b[K     |██████▊                         | 317kB 9.1MB/s eta 0:00:01\r\u001b[K     |███████                         | 327kB 9.1MB/s eta 0:00:01\r\u001b[K     |███████▏                        | 337kB 9.1MB/s eta 0:00:01\r\u001b[K     |███████▍                        | 348kB 9.1MB/s eta 0:00:01\r\u001b[K     |███████▋                        | 358kB 9.1MB/s eta 0:00:01\r\u001b[K     |███████▉                        | 368kB 9.1MB/s eta 0:00:01\r\u001b[K     |████████                        | 378kB 9.1MB/s eta 0:00:01\r\u001b[K     |████████▎                       | 389kB 9.1MB/s eta 0:00:01\r\u001b[K     |████████▌                       | 399kB 9.1MB/s eta 0:00:01\r\u001b[K     |████████▋                       | 409kB 9.1MB/s eta 0:00:01\r\u001b[K     |████████▉                       | 419kB 9.1MB/s eta 0:00:01\r\u001b[K     |█████████                       | 430kB 9.1MB/s eta 0:00:01\r\u001b[K     |█████████▎                      | 440kB 9.1MB/s eta 0:00:01\r\u001b[K     |█████████▌                      | 450kB 9.1MB/s eta 0:00:01\r\u001b[K     |█████████▊                      | 460kB 9.1MB/s eta 0:00:01\r\u001b[K     |██████████                      | 471kB 9.1MB/s eta 0:00:01\r\u001b[K     |██████████▏                     | 481kB 9.1MB/s eta 0:00:01\r\u001b[K     |██████████▍                     | 491kB 9.1MB/s eta 0:00:01\r\u001b[K     |██████████▋                     | 501kB 9.1MB/s eta 0:00:01\r\u001b[K     |██████████▉                     | 512kB 9.1MB/s eta 0:00:01\r\u001b[K     |███████████                     | 522kB 9.1MB/s eta 0:00:01\r\u001b[K     |███████████▎                    | 532kB 9.1MB/s eta 0:00:01\r\u001b[K     |███████████▌                    | 542kB 9.1MB/s eta 0:00:01\r\u001b[K     |███████████▊                    | 552kB 9.1MB/s eta 0:00:01\r\u001b[K     |████████████                    | 563kB 9.1MB/s eta 0:00:01\r\u001b[K     |████████████▏                   | 573kB 9.1MB/s eta 0:00:01\r\u001b[K     |████████████▍                   | 583kB 9.1MB/s eta 0:00:01\r\u001b[K     |████████████▋                   | 593kB 9.1MB/s eta 0:00:01\r\u001b[K     |████████████▉                   | 604kB 9.1MB/s eta 0:00:01\r\u001b[K     |█████████████                   | 614kB 9.1MB/s eta 0:00:01\r\u001b[K     |█████████████▏                  | 624kB 9.1MB/s eta 0:00:01\r\u001b[K     |█████████████▍                  | 634kB 9.1MB/s eta 0:00:01\r\u001b[K     |█████████████▋                  | 645kB 9.1MB/s eta 0:00:01\r\u001b[K     |█████████████▉                  | 655kB 9.1MB/s eta 0:00:01\r\u001b[K     |██████████████                  | 665kB 9.1MB/s eta 0:00:01\r\u001b[K     |██████████████▎                 | 675kB 9.1MB/s eta 0:00:01\r\u001b[K     |██████████████▌                 | 686kB 9.1MB/s eta 0:00:01\r\u001b[K     |██████████████▊                 | 696kB 9.1MB/s eta 0:00:01\r\u001b[K     |███████████████                 | 706kB 9.1MB/s eta 0:00:01\r\u001b[K     |███████████████▏                | 716kB 9.1MB/s eta 0:00:01\r\u001b[K     |███████████████▍                | 727kB 9.1MB/s eta 0:00:01\r\u001b[K     |███████████████▋                | 737kB 9.1MB/s eta 0:00:01\r\u001b[K     |███████████████▉                | 747kB 9.1MB/s eta 0:00:01\r\u001b[K     |████████████████                | 757kB 9.1MB/s eta 0:00:01\r\u001b[K     |████████████████▎               | 768kB 9.1MB/s eta 0:00:01\r\u001b[K     |████████████████▌               | 778kB 9.1MB/s eta 0:00:01\r\u001b[K     |████████████████▊               | 788kB 9.1MB/s eta 0:00:01\r\u001b[K     |█████████████████               | 798kB 9.1MB/s eta 0:00:01\r\u001b[K     |█████████████████               | 808kB 9.1MB/s eta 0:00:01\r\u001b[K     |█████████████████▎              | 819kB 9.1MB/s eta 0:00:01\r\u001b[K     |█████████████████▌              | 829kB 9.1MB/s eta 0:00:01\r\u001b[K     |█████████████████▊              | 839kB 9.1MB/s eta 0:00:01\r\u001b[K     |██████████████████              | 849kB 9.1MB/s eta 0:00:01\r\u001b[K     |██████████████████▏             | 860kB 9.1MB/s eta 0:00:01\r\u001b[K     |██████████████████▍             | 870kB 9.1MB/s eta 0:00:01\r\u001b[K     |██████████████████▋             | 880kB 9.1MB/s eta 0:00:01\r\u001b[K     |██████████████████▉             | 890kB 9.1MB/s eta 0:00:01\r\u001b[K     |███████████████████             | 901kB 9.1MB/s eta 0:00:01\r\u001b[K     |███████████████████▎            | 911kB 9.1MB/s eta 0:00:01\r\u001b[K     |███████████████████▌            | 921kB 9.1MB/s eta 0:00:01\r\u001b[K     |███████████████████▊            | 931kB 9.1MB/s eta 0:00:01\r\u001b[K     |████████████████████            | 942kB 9.1MB/s eta 0:00:01\r\u001b[K     |████████████████████▏           | 952kB 9.1MB/s eta 0:00:01\r\u001b[K     |████████████████████▍           | 962kB 9.1MB/s eta 0:00:01\r\u001b[K     |████████████████████▋           | 972kB 9.1MB/s eta 0:00:01\r\u001b[K     |████████████████████▉           | 983kB 9.1MB/s eta 0:00:01\r\u001b[K     |█████████████████████           | 993kB 9.1MB/s eta 0:00:01\r\u001b[K     |█████████████████████▎          | 1.0MB 9.1MB/s eta 0:00:01\r\u001b[K     |█████████████████████▍          | 1.0MB 9.1MB/s eta 0:00:01\r\u001b[K     |█████████████████████▋          | 1.0MB 9.1MB/s eta 0:00:01\r\u001b[K     |█████████████████████▉          | 1.0MB 9.1MB/s eta 0:00:01\r\u001b[K     |██████████████████████          | 1.0MB 9.1MB/s eta 0:00:01\r\u001b[K     |██████████████████████▎         | 1.1MB 9.1MB/s eta 0:00:01\r\u001b[K     |██████████████████████▌         | 1.1MB 9.1MB/s eta 0:00:01\r\u001b[K     |██████████████████████▊         | 1.1MB 9.1MB/s eta 0:00:01\r\u001b[K     |███████████████████████         | 1.1MB 9.1MB/s eta 0:00:01\r\u001b[K     |███████████████████████▏        | 1.1MB 9.1MB/s eta 0:00:01\r\u001b[K     |███████████████████████▍        | 1.1MB 9.1MB/s eta 0:00:01\r\u001b[K     |███████████████████████▋        | 1.1MB 9.1MB/s eta 0:00:01\r\u001b[K     |███████████████████████▉        | 1.1MB 9.1MB/s eta 0:00:01\r\u001b[K     |████████████████████████        | 1.1MB 9.1MB/s eta 0:00:01\r\u001b[K     |████████████████████████▎       | 1.1MB 9.1MB/s eta 0:00:01\r\u001b[K     |████████████████████████▌       | 1.2MB 9.1MB/s eta 0:00:01\r\u001b[K     |████████████████████████▊       | 1.2MB 9.1MB/s eta 0:00:01\r\u001b[K     |█████████████████████████       | 1.2MB 9.1MB/s eta 0:00:01\r\u001b[K     |█████████████████████████▏      | 1.2MB 9.1MB/s eta 0:00:01\r\u001b[K     |█████████████████████████▍      | 1.2MB 9.1MB/s eta 0:00:01\r\u001b[K     |█████████████████████████▋      | 1.2MB 9.1MB/s eta 0:00:01\r\u001b[K     |█████████████████████████▊      | 1.2MB 9.1MB/s eta 0:00:01\r\u001b[K     |██████████████████████████      | 1.2MB 9.1MB/s eta 0:00:01\r\u001b[K     |██████████████████████████▏     | 1.2MB 9.1MB/s eta 0:00:01\r\u001b[K     |██████████████████████████▍     | 1.2MB 9.1MB/s eta 0:00:01\r\u001b[K     |██████████████████████████▋     | 1.3MB 9.1MB/s eta 0:00:01\r\u001b[K     |██████████████████████████▉     | 1.3MB 9.1MB/s eta 0:00:01\r\u001b[K     |███████████████████████████     | 1.3MB 9.1MB/s eta 0:00:01\r\u001b[K     |███████████████████████████▎    | 1.3MB 9.1MB/s eta 0:00:01\r\u001b[K     |███████████████████████████▌    | 1.3MB 9.1MB/s eta 0:00:01\r\u001b[K     |███████████████████████████▊    | 1.3MB 9.1MB/s eta 0:00:01\r\u001b[K     |████████████████████████████    | 1.3MB 9.1MB/s eta 0:00:01\r\u001b[K     |████████████████████████████▏   | 1.3MB 9.1MB/s eta 0:00:01\r\u001b[K     |████████████████████████████▍   | 1.3MB 9.1MB/s eta 0:00:01\r\u001b[K     |████████████████████████████▋   | 1.4MB 9.1MB/s eta 0:00:01\r\u001b[K     |████████████████████████████▉   | 1.4MB 9.1MB/s eta 0:00:01\r\u001b[K     |█████████████████████████████   | 1.4MB 9.1MB/s eta 0:00:01\r\u001b[K     |█████████████████████████████▎  | 1.4MB 9.1MB/s eta 0:00:01\r\u001b[K     |█████████████████████████████▌  | 1.4MB 9.1MB/s eta 0:00:01\r\u001b[K     |█████████████████████████████▊  | 1.4MB 9.1MB/s eta 0:00:01\r\u001b[K     |█████████████████████████████▉  | 1.4MB 9.1MB/s eta 0:00:01\r\u001b[K     |██████████████████████████████  | 1.4MB 9.1MB/s eta 0:00:01\r\u001b[K     |██████████████████████████████▎ | 1.4MB 9.1MB/s eta 0:00:01\r\u001b[K     |██████████████████████████████▌ | 1.4MB 9.1MB/s eta 0:00:01\r\u001b[K     |██████████████████████████████▊ | 1.5MB 9.1MB/s eta 0:00:01\r\u001b[K     |███████████████████████████████ | 1.5MB 9.1MB/s eta 0:00:01\r\u001b[K     |███████████████████████████████▏| 1.5MB 9.1MB/s eta 0:00:01\r\u001b[K     |███████████████████████████████▍| 1.5MB 9.1MB/s eta 0:00:01\r\u001b[K     |███████████████████████████████▋| 1.5MB 9.1MB/s eta 0:00:01\r\u001b[K     |███████████████████████████████▉| 1.5MB 9.1MB/s eta 0:00:01\r\u001b[K     |████████████████████████████████| 1.5MB 9.1MB/s \n",
            "\u001b[?25hRequirement already satisfied: packaging in /usr/local/lib/python3.6/dist-packages (from transformers) (20.8)\n",
            "Requirement already satisfied: numpy in /usr/local/lib/python3.6/dist-packages (from transformers) (1.19.4)\n",
            "Collecting tokenizers==0.9.4\n",
            "\u001b[?25l  Downloading https://files.pythonhosted.org/packages/0f/1c/e789a8b12e28be5bc1ce2156cf87cb522b379be9cadc7ad8091a4cc107c4/tokenizers-0.9.4-cp36-cp36m-manylinux2010_x86_64.whl (2.9MB)\n",
            "\u001b[K     |████████████████████████████████| 2.9MB 15.3MB/s \n",
            "\u001b[?25hRequirement already satisfied: tqdm>=4.27 in /usr/local/lib/python3.6/dist-packages (from transformers) (4.41.1)\n",
            "Requirement already satisfied: filelock in /usr/local/lib/python3.6/dist-packages (from transformers) (3.0.12)\n",
            "Requirement already satisfied: requests in /usr/local/lib/python3.6/dist-packages (from transformers) (2.23.0)\n",
            "Requirement already satisfied: regex!=2019.12.17 in /usr/local/lib/python3.6/dist-packages (from transformers) (2019.12.20)\n",
            "Requirement already satisfied: sacremoses in /usr/local/lib/python3.6/dist-packages (from transformers) (0.0.43)\n",
            "Requirement already satisfied: dataclasses; python_version < \"3.7\" in /usr/local/lib/python3.6/dist-packages (from transformers) (0.8)\n",
            "Requirement already satisfied: pyparsing>=2.0.2 in /usr/local/lib/python3.6/dist-packages (from packaging->transformers) (2.4.7)\n",
            "Requirement already satisfied: certifi>=2017.4.17 in /usr/local/lib/python3.6/dist-packages (from requests->transformers) (2020.12.5)\n",
            "Requirement already satisfied: idna<3,>=2.5 in /usr/local/lib/python3.6/dist-packages (from requests->transformers) (2.10)\n",
            "Requirement already satisfied: chardet<4,>=3.0.2 in /usr/local/lib/python3.6/dist-packages (from requests->transformers) (3.0.4)\n",
            "Requirement already satisfied: urllib3!=1.25.0,!=1.25.1,<1.26,>=1.21.1 in /usr/local/lib/python3.6/dist-packages (from requests->transformers) (1.24.3)\n",
            "Requirement already satisfied: joblib in /usr/local/lib/python3.6/dist-packages (from sacremoses->transformers) (1.0.0)\n",
            "Requirement already satisfied: click in /usr/local/lib/python3.6/dist-packages (from sacremoses->transformers) (7.1.2)\n",
            "Requirement already satisfied: six in /usr/local/lib/python3.6/dist-packages (from sacremoses->transformers) (1.15.0)\n",
            "Installing collected packages: tokenizers, transformers\n",
            "Successfully installed tokenizers-0.9.4 transformers-4.1.1\n"
          ],
          "name": "stdout"
        }
      ]
    },
    {
      "cell_type": "code",
      "metadata": {
        "colab": {
          "base_uri": "https://localhost:8080/"
        },
        "id": "-_rKWK6Ba_Y7",
        "outputId": "b0ceeeb3-93d9-4e70-a112-63529b31ec9b"
      },
      "source": [
        "pip install pytorch_transformers "
      ],
      "execution_count": null,
      "outputs": [
        {
          "output_type": "stream",
          "text": [
            "Collecting pytorch_transformers\n",
            "\u001b[?25l  Downloading https://files.pythonhosted.org/packages/a3/b7/d3d18008a67e0b968d1ab93ad444fc05699403fa662f634b2f2c318a508b/pytorch_transformers-1.2.0-py3-none-any.whl (176kB)\n",
            "\u001b[K     |████████████████████████████████| 184kB 8.8MB/s \n",
            "\u001b[?25hCollecting sacremoses\n",
            "\u001b[?25l  Downloading https://files.pythonhosted.org/packages/7d/34/09d19aff26edcc8eb2a01bed8e98f13a1537005d31e95233fd48216eed10/sacremoses-0.0.43.tar.gz (883kB)\n",
            "\u001b[K     |████████████████████████████████| 890kB 6.6MB/s \n",
            "\u001b[?25hRequirement already satisfied: tqdm in /usr/local/lib/python3.6/dist-packages (from pytorch_transformers) (4.41.1)\n",
            "Collecting sentencepiece\n",
            "\u001b[?25l  Downloading https://files.pythonhosted.org/packages/e5/2d/6d4ca4bef9a67070fa1cac508606328329152b1df10bdf31fb6e4e727894/sentencepiece-0.1.94-cp36-cp36m-manylinux2014_x86_64.whl (1.1MB)\n",
            "\u001b[K     |████████████████████████████████| 1.1MB 21.0MB/s \n",
            "\u001b[?25hRequirement already satisfied: requests in /usr/local/lib/python3.6/dist-packages (from pytorch_transformers) (2.23.0)\n",
            "Requirement already satisfied: numpy in /usr/local/lib/python3.6/dist-packages (from pytorch_transformers) (1.19.4)\n",
            "Collecting boto3\n",
            "\u001b[?25l  Downloading https://files.pythonhosted.org/packages/87/ad/aa52a43d843a6b33f9e34abe29d04c7a039502fb34d2d53a11b1cb30a41b/boto3-1.16.48.tar.gz (99kB)\n",
            "\u001b[K     |████████████████████████████████| 102kB 10.8MB/s \n",
            "\u001b[?25hRequirement already satisfied: regex in /usr/local/lib/python3.6/dist-packages (from pytorch_transformers) (2019.12.20)\n",
            "Requirement already satisfied: torch>=1.0.0 in /usr/local/lib/python3.6/dist-packages (from pytorch_transformers) (1.7.0+cu101)\n",
            "Requirement already satisfied: six in /usr/local/lib/python3.6/dist-packages (from sacremoses->pytorch_transformers) (1.15.0)\n",
            "Requirement already satisfied: click in /usr/local/lib/python3.6/dist-packages (from sacremoses->pytorch_transformers) (7.1.2)\n",
            "Requirement already satisfied: joblib in /usr/local/lib/python3.6/dist-packages (from sacremoses->pytorch_transformers) (1.0.0)\n",
            "Requirement already satisfied: urllib3!=1.25.0,!=1.25.1,<1.26,>=1.21.1 in /usr/local/lib/python3.6/dist-packages (from requests->pytorch_transformers) (1.24.3)\n",
            "Requirement already satisfied: idna<3,>=2.5 in /usr/local/lib/python3.6/dist-packages (from requests->pytorch_transformers) (2.10)\n",
            "Requirement already satisfied: certifi>=2017.4.17 in /usr/local/lib/python3.6/dist-packages (from requests->pytorch_transformers) (2020.12.5)\n",
            "Requirement already satisfied: chardet<4,>=3.0.2 in /usr/local/lib/python3.6/dist-packages (from requests->pytorch_transformers) (3.0.4)\n",
            "Collecting botocore<1.20.0,>=1.19.48\n",
            "\u001b[?25l  Downloading https://files.pythonhosted.org/packages/3c/ca/58881976b6b7e9b356c6a9aed35678d1f56e3a708e418f8ab3a5b216d271/botocore-1.19.48-py2.py3-none-any.whl (7.2MB)\n",
            "\u001b[K     |████████████████████████████████| 7.2MB 31.5MB/s \n",
            "\u001b[?25hCollecting jmespath<1.0.0,>=0.7.1\n",
            "  Downloading https://files.pythonhosted.org/packages/07/cb/5f001272b6faeb23c1c9e0acc04d48eaaf5c862c17709d20e3469c6e0139/jmespath-0.10.0-py2.py3-none-any.whl\n",
            "Collecting s3transfer<0.4.0,>=0.3.0\n",
            "\u001b[?25l  Downloading https://files.pythonhosted.org/packages/69/79/e6afb3d8b0b4e96cefbdc690f741d7dd24547ff1f94240c997a26fa908d3/s3transfer-0.3.3-py2.py3-none-any.whl (69kB)\n",
            "\u001b[K     |████████████████████████████████| 71kB 9.6MB/s \n",
            "\u001b[?25hRequirement already satisfied: future in /usr/local/lib/python3.6/dist-packages (from torch>=1.0.0->pytorch_transformers) (0.16.0)\n",
            "Requirement already satisfied: dataclasses in /usr/local/lib/python3.6/dist-packages (from torch>=1.0.0->pytorch_transformers) (0.8)\n",
            "Requirement already satisfied: typing-extensions in /usr/local/lib/python3.6/dist-packages (from torch>=1.0.0->pytorch_transformers) (3.7.4.3)\n",
            "Requirement already satisfied: python-dateutil<3.0.0,>=2.1 in /usr/local/lib/python3.6/dist-packages (from botocore<1.20.0,>=1.19.48->boto3->pytorch_transformers) (2.8.1)\n",
            "Building wheels for collected packages: sacremoses, boto3\n",
            "  Building wheel for sacremoses (setup.py) ... \u001b[?25l\u001b[?25hdone\n",
            "  Created wheel for sacremoses: filename=sacremoses-0.0.43-cp36-none-any.whl size=893261 sha256=e87cc03bf93f90fe7ee9d52357c20cf86b93ceb0d0ab462d8111b704fff8777d\n",
            "  Stored in directory: /root/.cache/pip/wheels/29/3c/fd/7ce5c3f0666dab31a50123635e6fb5e19ceb42ce38d4e58f45\n",
            "  Building wheel for boto3 (setup.py) ... \u001b[?25l\u001b[?25hdone\n",
            "  Created wheel for boto3: filename=boto3-1.16.48-py2.py3-none-any.whl size=128710 sha256=f4ad04f65a89af2b8b67332495509615f511513c2e4344f49c3f6e10d1deaaf3\n",
            "  Stored in directory: /root/.cache/pip/wheels/29/5e/24/c13b555a2c0978dfc167c07c1f2f5e338cb44a5e8ea467ea42\n",
            "Successfully built sacremoses boto3\n",
            "\u001b[31mERROR: botocore 1.19.48 has requirement urllib3<1.27,>=1.25.4; python_version != \"3.4\", but you'll have urllib3 1.24.3 which is incompatible.\u001b[0m\n",
            "Installing collected packages: sacremoses, sentencepiece, jmespath, botocore, s3transfer, boto3, pytorch-transformers\n",
            "Successfully installed boto3-1.16.48 botocore-1.19.48 jmespath-0.10.0 pytorch-transformers-1.2.0 s3transfer-0.3.3 sacremoses-0.0.43 sentencepiece-0.1.94\n"
          ],
          "name": "stdout"
        }
      ]
    },
    {
      "cell_type": "code",
      "metadata": {
        "id": "fmwp1ZG0cdQu"
      },
      "source": [
        "train = pd.read_csv('/content/drive/MyDrive/datasets/train.csv')"
      ],
      "execution_count": null,
      "outputs": []
    },
    {
      "cell_type": "code",
      "metadata": {
        "id": "Aid2jrEdchBb"
      },
      "source": [
        "X = train['text']\r\n",
        "Y = train['target']\r\n",
        "X_train, X_test, Y_train, Y_test = train_test_split(X, Y, test_size=0.2)"
      ],
      "execution_count": null,
      "outputs": []
    },
    {
      "cell_type": "code",
      "metadata": {
        "id": "F166Bc4dcorE"
      },
      "source": [
        "from transformers import BertTokenizer\r\n",
        "from torch.utils.data import TensorDataset"
      ],
      "execution_count": null,
      "outputs": []
    },
    {
      "cell_type": "code",
      "metadata": {
        "colab": {
          "base_uri": "https://localhost:8080/",
          "height": 66,
          "referenced_widgets": [
            "2e9b2dc9edea4eb78511eec21d651700",
            "03627f4a966a4d88b91b99d1efca44b7",
            "3515c912a6824f1da1c6823e235aed50",
            "352b9b826dce455981841f2cbdb8f605",
            "f0b56a47214b4330b448c2fc904e0f2c",
            "d43501c6d04b4cb08ac3f124f441890f",
            "93e426520ff04857a2b503562c1fb767",
            "68d7f760187344309f6bfdc8475be793"
          ]
        },
        "id": "RVrI7-ICdKfQ",
        "outputId": "ed94ebf6-2c79-4a0f-a26e-8877ec7fa29b"
      },
      "source": [
        "tokenizer = BertTokenizer.from_pretrained('bert-base-uncased', do_lower_case=True)"
      ],
      "execution_count": null,
      "outputs": [
        {
          "output_type": "display_data",
          "data": {
            "application/vnd.jupyter.widget-view+json": {
              "model_id": "2e9b2dc9edea4eb78511eec21d651700",
              "version_major": 2,
              "version_minor": 0
            },
            "text/plain": [
              "HBox(children=(FloatProgress(value=0.0, description='Downloading', max=231508.0, style=ProgressStyle(descripti…"
            ]
          },
          "metadata": {
            "tags": []
          }
        },
        {
          "output_type": "stream",
          "text": [
            "\n"
          ],
          "name": "stdout"
        }
      ]
    },
    {
      "cell_type": "code",
      "metadata": {
        "colab": {
          "base_uri": "https://localhost:8080/"
        },
        "id": "FUp_Wp3BdYGq",
        "outputId": "b6af5325-08c4-4feb-ba54-ad50047a5e16"
      },
      "source": [
        "import torch\r\n",
        "\r\n",
        "encoded_data_train = tokenizer.batch_encode_plus(X_train.values, add_special_tokens=True, return_attention_mask=True, pad_to_max_length=True, max_length=256, return_tensors='pt')\r\n",
        "encoded_data_val = tokenizer.batch_encode_plus(X_test.values, add_special_tokens=True, return_attention_mask=True, pad_to_max_length=True, max_length=256, return_tensors='pt')"
      ],
      "execution_count": null,
      "outputs": [
        {
          "output_type": "stream",
          "text": [
            "Truncation was not explicitly activated but `max_length` is provided a specific value, please use `truncation=True` to explicitly truncate examples to max length. Defaulting to 'longest_first' truncation strategy. If you encode pairs of sequences (GLUE-style) with the tokenizer you can select this strategy more precisely by providing a specific strategy to `truncation`.\n",
            "/usr/local/lib/python3.6/dist-packages/transformers/tokenization_utils_base.py:2179: FutureWarning: The `pad_to_max_length` argument is deprecated and will be removed in a future version, use `padding=True` or `padding='longest'` to pad to the longest sequence in the batch, or use `padding='max_length'` to pad to a max length. In this case, you can give a specific length with `max_length` (e.g. `max_length=45`) or leave max_length to None to pad to the maximal input size of the model (e.g. 512 for Bert).\n",
            "  FutureWarning,\n"
          ],
          "name": "stderr"
        }
      ]
    },
    {
      "cell_type": "code",
      "metadata": {
        "id": "Lc68D-Jbeud-"
      },
      "source": [
        "input_ids_train = encoded_data_train['input_ids']\r\n",
        "attention_masks_train = encoded_data_train['attention_mask']\r\n",
        "labels_train = torch.tensor(Y_train.values)\r\n",
        "\r\n",
        "input_ids_val = encoded_data_val['input_ids']\r\n",
        "attention_masks_val = encoded_data_val['attention_mask']\r\n",
        "labels_val = torch.tensor(Y_test.values)"
      ],
      "execution_count": null,
      "outputs": []
    },
    {
      "cell_type": "code",
      "metadata": {
        "id": "OEtaUEpPfcqp"
      },
      "source": [
        "dataset_train = TensorDataset(input_ids_train, attention_masks_train, labels_train)\r\n",
        "dataset_val = TensorDataset(input_ids_val, attention_masks_val, labels_val)"
      ],
      "execution_count": null,
      "outputs": []
    },
    {
      "cell_type": "code",
      "metadata": {
        "id": "A1PP_e-7f38G"
      },
      "source": [
        "from transformers import BertForSequenceClassification"
      ],
      "execution_count": null,
      "outputs": []
    },
    {
      "cell_type": "code",
      "metadata": {
        "id": "ZiGDc7Vtf9Gx"
      },
      "source": [
        "label_dict = {}\r\n",
        "possible_labels = Y.unique()\r\n",
        "\r\n",
        "for index, possible_label in enumerate(possible_labels):\r\n",
        "  label_dict[possible_label] = index"
      ],
      "execution_count": null,
      "outputs": []
    },
    {
      "cell_type": "code",
      "metadata": {
        "colab": {
          "base_uri": "https://localhost:8080/",
          "height": 220,
          "referenced_widgets": [
            "f6896bd142ff445991f9f2d3f7c93d47",
            "f2dfd332379442cd8dd32cf0d7f99c0e",
            "1a32391391a94a37a3f35242b82005a6",
            "67913aa2ecd644b08cd1536747efc328",
            "ca02b2377a3e420aac6012995c622583",
            "6ac192f743564a799e4c019b3977a3f4",
            "81715cf076ee4a2b805811781ed8080a",
            "6aa5f0d8032c486e83ad167fe1179d51",
            "9c938c9c15c940b88a253a7a14e4ab9b",
            "d9cd8bf0763349e9bda26deaa02d55b6",
            "6adbaeb19e9347e9aa9ba6ae9d8b485f",
            "1f59d26ee80041ddb72985ece54cfa15",
            "06b33c6746094e0db5c33ef7b17516ff",
            "7039c882f0ee48d79b9918c90d3b82bb",
            "dcd3daacd1584b2798d9b5ab25d45a0a",
            "34a648e8b5ec477ca3cee62e29e36208"
          ]
        },
        "id": "8pwvizcggnb-",
        "outputId": "6be23ff1-7d0b-4d61-d511-f711378938a2"
      },
      "source": [
        "model = BertForSequenceClassification.from_pretrained('bert-base-uncased', num_labels = len(label_dict), output_attentions = False, output_hidden_states = False)"
      ],
      "execution_count": null,
      "outputs": [
        {
          "output_type": "display_data",
          "data": {
            "application/vnd.jupyter.widget-view+json": {
              "model_id": "f6896bd142ff445991f9f2d3f7c93d47",
              "version_major": 2,
              "version_minor": 0
            },
            "text/plain": [
              "HBox(children=(FloatProgress(value=0.0, description='Downloading', max=433.0, style=ProgressStyle(description_…"
            ]
          },
          "metadata": {
            "tags": []
          }
        },
        {
          "output_type": "stream",
          "text": [
            "\n"
          ],
          "name": "stdout"
        },
        {
          "output_type": "display_data",
          "data": {
            "application/vnd.jupyter.widget-view+json": {
              "model_id": "9c938c9c15c940b88a253a7a14e4ab9b",
              "version_major": 2,
              "version_minor": 0
            },
            "text/plain": [
              "HBox(children=(FloatProgress(value=0.0, description='Downloading', max=440473133.0, style=ProgressStyle(descri…"
            ]
          },
          "metadata": {
            "tags": []
          }
        },
        {
          "output_type": "stream",
          "text": [
            "\n"
          ],
          "name": "stdout"
        },
        {
          "output_type": "stream",
          "text": [
            "Some weights of the model checkpoint at bert-base-uncased were not used when initializing BertForSequenceClassification: ['cls.predictions.bias', 'cls.predictions.transform.dense.weight', 'cls.predictions.transform.dense.bias', 'cls.predictions.decoder.weight', 'cls.seq_relationship.weight', 'cls.seq_relationship.bias', 'cls.predictions.transform.LayerNorm.weight', 'cls.predictions.transform.LayerNorm.bias']\n",
            "- This IS expected if you are initializing BertForSequenceClassification from the checkpoint of a model trained on another task or with another architecture (e.g. initializing a BertForSequenceClassification model from a BertForPreTraining model).\n",
            "- This IS NOT expected if you are initializing BertForSequenceClassification from the checkpoint of a model that you expect to be exactly identical (initializing a BertForSequenceClassification model from a BertForSequenceClassification model).\n",
            "Some weights of BertForSequenceClassification were not initialized from the model checkpoint at bert-base-uncased and are newly initialized: ['classifier.weight', 'classifier.bias']\n",
            "You should probably TRAIN this model on a down-stream task to be able to use it for predictions and inference.\n"
          ],
          "name": "stderr"
        }
      ]
    },
    {
      "cell_type": "code",
      "metadata": {
        "id": "xWCJ5bQghbap"
      },
      "source": [
        "batch_size = 4\r\n",
        "from torch.utils.data import DataLoader, RandomSampler, SequentialSampler\r\n",
        "\r\n",
        "dataloader_train = DataLoader(dataset_train, sampler = RandomSampler(dataset_train), batch_size=batch_size)\r\n",
        "dataloader_val = DataLoader(dataset_val, sampler = RandomSampler(dataset_val), batch_size=batch_size)"
      ],
      "execution_count": null,
      "outputs": []
    },
    {
      "cell_type": "code",
      "metadata": {
        "id": "TDDJFM6vjYqU"
      },
      "source": [
        "from transformers import AdamW\r\n",
        "\r\n",
        "optimizer = AdamW(model.parameters(), lr = 1e-5, eps = 1e-8)"
      ],
      "execution_count": null,
      "outputs": []
    },
    {
      "cell_type": "code",
      "metadata": {
        "id": "4xf1v1QzjnKj"
      },
      "source": [
        "from transformers import get_linear_schedule_with_warmup\r\n",
        "\r\n",
        "epochs = 1\r\n",
        "scheduler = get_linear_schedule_with_warmup(optimizer, num_warmup_steps=0, num_training_steps = len(dataloader_train)*epochs)"
      ],
      "execution_count": null,
      "outputs": []
    },
    {
      "cell_type": "code",
      "metadata": {
        "id": "6eF0RgNKkfDZ"
      },
      "source": [
        "def f1_score_func(preds, labels):\r\n",
        "  preds_flat = np.argmax(preds, axis=1).flatten()\r\n",
        "  labels_flat = labels.flatten()\r\n",
        "  return f1_score(labels_flat, preds_flat, average='weighted')"
      ],
      "execution_count": null,
      "outputs": []
    },
    {
      "cell_type": "code",
      "metadata": {
        "id": "MxCs_uglk7Iv"
      },
      "source": [
        "def accuracy_per_class(preds, labels):\r\n",
        "  label_dict_inverse = {v: k for k, v in label_dict.items()}\r\n",
        "  preds_flat = np.argmax(preds, axis=1).flatten()\r\n",
        "  labels_flat = labels.flatten()\r\n",
        "  for label in np.unique(labels_flat):\r\n",
        "    y_preds = preds_flat[labels_flat==label]\r\n",
        "    y_true = labels_flat[labels_flat==label]\r\n",
        "    print(f'Class: {label_dict_inverse[label]}')\r\n",
        "    print(f'Accuracy:{len(y_preds[y_preds==label])}/{len(y_true)}\\n')"
      ],
      "execution_count": null,
      "outputs": []
    },
    {
      "cell_type": "code",
      "metadata": {
        "id": "3EXRmHLylsQ7"
      },
      "source": [
        "import random\r\n",
        "\r\n",
        "seed_val = 17\r\n",
        "random.seed(seed_val)\r\n",
        "np.random.seed(seed_val)\r\n",
        "torch.manual_seed(seed_val)\r\n",
        "torch.cuda.manual_seed_all(seed_val)"
      ],
      "execution_count": null,
      "outputs": []
    },
    {
      "cell_type": "code",
      "metadata": {
        "colab": {
          "base_uri": "https://localhost:8080/"
        },
        "id": "8iCCU9rcmFOU",
        "outputId": "a1e4428a-47ad-4a7b-fb8d-d1ed8c0b6516"
      },
      "source": [
        "device = torch.device('cuda' if torch.cuda.is_available() else 'cpu')\r\n",
        "model.to(device)\r\n",
        "print(device)"
      ],
      "execution_count": null,
      "outputs": [
        {
          "output_type": "stream",
          "text": [
            "cpu\n"
          ],
          "name": "stdout"
        }
      ]
    },
    {
      "cell_type": "code",
      "metadata": {
        "id": "zOA2RchEmILg"
      },
      "source": [
        "def evaluate(dataloader_val):\r\n",
        "  model.eval()\r\n",
        "  loss_val_total = 0\r\n",
        "  predictions, true_vals = [], []\r\n",
        "  for batch in tqdm(dataloader_val):\r\n",
        "    batch = tuple(b.to(device) for b in batch)\r\n",
        "    inputs = {'input_ids':      batch[0],\r\n",
        "              'attention_mask': batch[1],\r\n",
        "              'labels':         batch[2],\r\n",
        "              }\r\n",
        "    with torch.no_grad():\r\n",
        "      outputs = model(**inputs)\r\n",
        "    loss=outputs[0]\r\n",
        "    logits=outputs[1]\r\n",
        "    loss_val_total += loss.item()\r\n",
        "    logits = logits.detach().cpu().numpy()\r\n",
        "    label_ids = inputs['labels'].cpu().numpy()\r\n",
        "    predictions.append(logits)\r\n",
        "    true_vals.append(label_ids)\r\n",
        "  loss_val_avg = loss_val_total/len(dataloader_val)\r\n",
        "  predictions = np.concatenate(predictions, axis=0)\r\n",
        "  true_vals = np.concatenate(true_vals, axis=0)\r\n",
        "          \r\n",
        "  return loss_val_avg, predictions, true_vals"
      ],
      "execution_count": null,
      "outputs": []
    },
    {
      "cell_type": "code",
      "metadata": {
        "colab": {
          "background_save": true,
          "base_uri": "https://localhost:8080/",
          "height": 98,
          "referenced_widgets": [
            "2097561fb6f44f858442d45d615d7e87",
            "853846ab1b66402da6e601deaa656426",
            "22caa1b4f070470899f20d88357197f6",
            "f732704334064248950b29dda88d7abb",
            "60919e353537496280584dc506739424",
            "a8d56c67a7154f66978b0b6b37cfbbb4",
            "e886e04c40b24850a3ef2044d97c1983",
            "a3fb9a9ba83f4b2e886ef5d5db680fbd",
            "b66aabd4f9834645bb7e4382fed45389",
            "d846f69992814b949989d429ee644e54",
            "de800caa46d646908e1ec8282dc019b4",
            "09043e6c8eee43f4b85c41fd0a96d0df",
            "5c63595b84474329a1a89c2d27311d29",
            "bb29c40ccb3f4fce9a4baf278897aff8",
            "9f6b6846debb4f5a81244e583700661b",
            "577b45dee4d7497f996a6969a2bd400f",
            "5b5bc270a59746428a9cb0c10faa39ad",
            "6b8526da3b514ae1bf4688abc24eebba",
            "9d901959a4874cbaa3dc0ef2b159fadd",
            "f93db7bb32bc4843b5f0c5dc5ed1b172",
            "664aec952e544e21bbbf981283fafb0e",
            "d5c61036172c47f9b8f30dea03538686",
            "df246322a7874a36954df9f7d1e6d890",
            "2dda11b1ca3644b383cf43b95e319b35"
          ]
        },
        "id": "UussBli7nPUW",
        "outputId": "4fa38a9f-3a5d-4cb6-f059-0b18c7aa9496"
      },
      "source": [
        "from tqdm.notebook import tqdm\r\n",
        "\r\n",
        "for epoch in tqdm(range(1, epochs+1)):\r\n",
        "    model.train()\r\n",
        "    loss_train_total = 0\r\n",
        "    \r\n",
        "    progress_bar = tqdm(dataloader_train, \r\n",
        "                        desc='Epoch {:1d}'.format(epoch), \r\n",
        "                        leave=False, \r\n",
        "                        disable=False)\r\n",
        "    \r\n",
        "    for batch in progress_bar:\r\n",
        "        model.zero_grad()\r\n",
        "        batch = tuple(b.to(device) for b in batch)\r\n",
        "        inputs = {\r\n",
        "            'input_ids': batch[0],\r\n",
        "            'attention_mask': batch[1],\r\n",
        "            'labels': batch[2]\r\n",
        "        }\r\n",
        "        \r\n",
        "        outputs = model(**inputs)\r\n",
        "        loss = outputs[0]\r\n",
        "        loss_train_total +=loss.item()\r\n",
        "        loss.backward()\r\n",
        "        \r\n",
        "        torch.nn.utils.clip_grad_norm_(model.parameters(), 1.0)\r\n",
        "        \r\n",
        "        optimizer.step()\r\n",
        "        scheduler.step()\r\n",
        "        \r\n",
        "        progress_bar.set_postfix({'training_loss': '{:.3f}'.format(loss.item()/len(batch))})     \r\n",
        "    \r\n",
        "    #torch.save(model.state_dict(), f'Models/BERT_ft_Epoch{epoch}.model')\r\n",
        "    \r\n",
        "\r\n",
        "    \r\n",
        "    loss_train_avg = loss_train_total/len(dataloader_train)\r\n",
        "    tqdm.write(f'Training loss: {loss_train_avg}')\r\n",
        "    \r\n",
        "    val_loss, predictions, true_vals = evaluate(dataloader_val)\r\n",
        "    val_f1 = f1_score_func(predictions, true_vals)\r\n",
        "    print(f'Validation loss: {val_loss}')\r\n",
        "    print(f'F1 Score (weighted): {val_f1}')"
      ],
      "execution_count": null,
      "outputs": [
        {
          "output_type": "display_data",
          "data": {
            "application/vnd.jupyter.widget-view+json": {
              "model_id": "2097561fb6f44f858442d45d615d7e87",
              "version_major": 2,
              "version_minor": 0
            },
            "text/plain": [
              "HBox(children=(FloatProgress(value=0.0, max=1.0), HTML(value='')))"
            ]
          },
          "metadata": {
            "tags": []
          }
        },
        {
          "output_type": "display_data",
          "data": {
            "application/vnd.jupyter.widget-view+json": {
              "model_id": "b66aabd4f9834645bb7e4382fed45389",
              "version_major": 2,
              "version_minor": 0
            },
            "text/plain": [
              "HBox(children=(FloatProgress(value=0.0, description='Epoch 1', max=1523.0, style=ProgressStyle(description_wid…"
            ]
          },
          "metadata": {
            "tags": []
          }
        },
        {
          "output_type": "stream",
          "text": [
            "\rTraining loss: 0.5176197666526868\n"
          ],
          "name": "stdout"
        },
        {
          "output_type": "display_data",
          "data": {
            "application/vnd.jupyter.widget-view+json": {
              "model_id": "5b5bc270a59746428a9cb0c10faa39ad",
              "version_major": 2,
              "version_minor": 0
            },
            "text/plain": [
              "HBox(children=(FloatProgress(value=0.0, max=381.0), HTML(value='')))"
            ]
          },
          "metadata": {
            "tags": []
          }
        },
        {
          "output_type": "stream",
          "text": [
            "\n",
            "Validation loss: 0.5646368044298973\n",
            "F1 Score (weighted): 0.8389351013047344\n",
            "\n"
          ],
          "name": "stdout"
        }
      ]
    },
    {
      "cell_type": "code",
      "metadata": {
        "id": "LZaqAovEgluY"
      },
      "source": [
        "torch.save(model, '/content/drive/MyDrive/model') "
      ],
      "execution_count": null,
      "outputs": []
    },
    {
      "cell_type": "code",
      "metadata": {
        "colab": {
          "base_uri": "https://localhost:8080/"
        },
        "id": "ipBzyGvehMVO",
        "outputId": "f771c983-962a-4d4b-f09e-03b5d9e02f9a"
      },
      "source": [
        "model = torch.load('/content/drive/MyDrive/model')\r\n",
        "model.eval()"
      ],
      "execution_count": null,
      "outputs": [
        {
          "output_type": "execute_result",
          "data": {
            "text/plain": [
              "BertForSequenceClassification(\n",
              "  (bert): BertModel(\n",
              "    (embeddings): BertEmbeddings(\n",
              "      (word_embeddings): Embedding(30522, 768, padding_idx=0)\n",
              "      (position_embeddings): Embedding(512, 768)\n",
              "      (token_type_embeddings): Embedding(2, 768)\n",
              "      (LayerNorm): LayerNorm((768,), eps=1e-12, elementwise_affine=True)\n",
              "      (dropout): Dropout(p=0.1, inplace=False)\n",
              "    )\n",
              "    (encoder): BertEncoder(\n",
              "      (layer): ModuleList(\n",
              "        (0): BertLayer(\n",
              "          (attention): BertAttention(\n",
              "            (self): BertSelfAttention(\n",
              "              (query): Linear(in_features=768, out_features=768, bias=True)\n",
              "              (key): Linear(in_features=768, out_features=768, bias=True)\n",
              "              (value): Linear(in_features=768, out_features=768, bias=True)\n",
              "              (dropout): Dropout(p=0.1, inplace=False)\n",
              "            )\n",
              "            (output): BertSelfOutput(\n",
              "              (dense): Linear(in_features=768, out_features=768, bias=True)\n",
              "              (LayerNorm): LayerNorm((768,), eps=1e-12, elementwise_affine=True)\n",
              "              (dropout): Dropout(p=0.1, inplace=False)\n",
              "            )\n",
              "          )\n",
              "          (intermediate): BertIntermediate(\n",
              "            (dense): Linear(in_features=768, out_features=3072, bias=True)\n",
              "          )\n",
              "          (output): BertOutput(\n",
              "            (dense): Linear(in_features=3072, out_features=768, bias=True)\n",
              "            (LayerNorm): LayerNorm((768,), eps=1e-12, elementwise_affine=True)\n",
              "            (dropout): Dropout(p=0.1, inplace=False)\n",
              "          )\n",
              "        )\n",
              "        (1): BertLayer(\n",
              "          (attention): BertAttention(\n",
              "            (self): BertSelfAttention(\n",
              "              (query): Linear(in_features=768, out_features=768, bias=True)\n",
              "              (key): Linear(in_features=768, out_features=768, bias=True)\n",
              "              (value): Linear(in_features=768, out_features=768, bias=True)\n",
              "              (dropout): Dropout(p=0.1, inplace=False)\n",
              "            )\n",
              "            (output): BertSelfOutput(\n",
              "              (dense): Linear(in_features=768, out_features=768, bias=True)\n",
              "              (LayerNorm): LayerNorm((768,), eps=1e-12, elementwise_affine=True)\n",
              "              (dropout): Dropout(p=0.1, inplace=False)\n",
              "            )\n",
              "          )\n",
              "          (intermediate): BertIntermediate(\n",
              "            (dense): Linear(in_features=768, out_features=3072, bias=True)\n",
              "          )\n",
              "          (output): BertOutput(\n",
              "            (dense): Linear(in_features=3072, out_features=768, bias=True)\n",
              "            (LayerNorm): LayerNorm((768,), eps=1e-12, elementwise_affine=True)\n",
              "            (dropout): Dropout(p=0.1, inplace=False)\n",
              "          )\n",
              "        )\n",
              "        (2): BertLayer(\n",
              "          (attention): BertAttention(\n",
              "            (self): BertSelfAttention(\n",
              "              (query): Linear(in_features=768, out_features=768, bias=True)\n",
              "              (key): Linear(in_features=768, out_features=768, bias=True)\n",
              "              (value): Linear(in_features=768, out_features=768, bias=True)\n",
              "              (dropout): Dropout(p=0.1, inplace=False)\n",
              "            )\n",
              "            (output): BertSelfOutput(\n",
              "              (dense): Linear(in_features=768, out_features=768, bias=True)\n",
              "              (LayerNorm): LayerNorm((768,), eps=1e-12, elementwise_affine=True)\n",
              "              (dropout): Dropout(p=0.1, inplace=False)\n",
              "            )\n",
              "          )\n",
              "          (intermediate): BertIntermediate(\n",
              "            (dense): Linear(in_features=768, out_features=3072, bias=True)\n",
              "          )\n",
              "          (output): BertOutput(\n",
              "            (dense): Linear(in_features=3072, out_features=768, bias=True)\n",
              "            (LayerNorm): LayerNorm((768,), eps=1e-12, elementwise_affine=True)\n",
              "            (dropout): Dropout(p=0.1, inplace=False)\n",
              "          )\n",
              "        )\n",
              "        (3): BertLayer(\n",
              "          (attention): BertAttention(\n",
              "            (self): BertSelfAttention(\n",
              "              (query): Linear(in_features=768, out_features=768, bias=True)\n",
              "              (key): Linear(in_features=768, out_features=768, bias=True)\n",
              "              (value): Linear(in_features=768, out_features=768, bias=True)\n",
              "              (dropout): Dropout(p=0.1, inplace=False)\n",
              "            )\n",
              "            (output): BertSelfOutput(\n",
              "              (dense): Linear(in_features=768, out_features=768, bias=True)\n",
              "              (LayerNorm): LayerNorm((768,), eps=1e-12, elementwise_affine=True)\n",
              "              (dropout): Dropout(p=0.1, inplace=False)\n",
              "            )\n",
              "          )\n",
              "          (intermediate): BertIntermediate(\n",
              "            (dense): Linear(in_features=768, out_features=3072, bias=True)\n",
              "          )\n",
              "          (output): BertOutput(\n",
              "            (dense): Linear(in_features=3072, out_features=768, bias=True)\n",
              "            (LayerNorm): LayerNorm((768,), eps=1e-12, elementwise_affine=True)\n",
              "            (dropout): Dropout(p=0.1, inplace=False)\n",
              "          )\n",
              "        )\n",
              "        (4): BertLayer(\n",
              "          (attention): BertAttention(\n",
              "            (self): BertSelfAttention(\n",
              "              (query): Linear(in_features=768, out_features=768, bias=True)\n",
              "              (key): Linear(in_features=768, out_features=768, bias=True)\n",
              "              (value): Linear(in_features=768, out_features=768, bias=True)\n",
              "              (dropout): Dropout(p=0.1, inplace=False)\n",
              "            )\n",
              "            (output): BertSelfOutput(\n",
              "              (dense): Linear(in_features=768, out_features=768, bias=True)\n",
              "              (LayerNorm): LayerNorm((768,), eps=1e-12, elementwise_affine=True)\n",
              "              (dropout): Dropout(p=0.1, inplace=False)\n",
              "            )\n",
              "          )\n",
              "          (intermediate): BertIntermediate(\n",
              "            (dense): Linear(in_features=768, out_features=3072, bias=True)\n",
              "          )\n",
              "          (output): BertOutput(\n",
              "            (dense): Linear(in_features=3072, out_features=768, bias=True)\n",
              "            (LayerNorm): LayerNorm((768,), eps=1e-12, elementwise_affine=True)\n",
              "            (dropout): Dropout(p=0.1, inplace=False)\n",
              "          )\n",
              "        )\n",
              "        (5): BertLayer(\n",
              "          (attention): BertAttention(\n",
              "            (self): BertSelfAttention(\n",
              "              (query): Linear(in_features=768, out_features=768, bias=True)\n",
              "              (key): Linear(in_features=768, out_features=768, bias=True)\n",
              "              (value): Linear(in_features=768, out_features=768, bias=True)\n",
              "              (dropout): Dropout(p=0.1, inplace=False)\n",
              "            )\n",
              "            (output): BertSelfOutput(\n",
              "              (dense): Linear(in_features=768, out_features=768, bias=True)\n",
              "              (LayerNorm): LayerNorm((768,), eps=1e-12, elementwise_affine=True)\n",
              "              (dropout): Dropout(p=0.1, inplace=False)\n",
              "            )\n",
              "          )\n",
              "          (intermediate): BertIntermediate(\n",
              "            (dense): Linear(in_features=768, out_features=3072, bias=True)\n",
              "          )\n",
              "          (output): BertOutput(\n",
              "            (dense): Linear(in_features=3072, out_features=768, bias=True)\n",
              "            (LayerNorm): LayerNorm((768,), eps=1e-12, elementwise_affine=True)\n",
              "            (dropout): Dropout(p=0.1, inplace=False)\n",
              "          )\n",
              "        )\n",
              "        (6): BertLayer(\n",
              "          (attention): BertAttention(\n",
              "            (self): BertSelfAttention(\n",
              "              (query): Linear(in_features=768, out_features=768, bias=True)\n",
              "              (key): Linear(in_features=768, out_features=768, bias=True)\n",
              "              (value): Linear(in_features=768, out_features=768, bias=True)\n",
              "              (dropout): Dropout(p=0.1, inplace=False)\n",
              "            )\n",
              "            (output): BertSelfOutput(\n",
              "              (dense): Linear(in_features=768, out_features=768, bias=True)\n",
              "              (LayerNorm): LayerNorm((768,), eps=1e-12, elementwise_affine=True)\n",
              "              (dropout): Dropout(p=0.1, inplace=False)\n",
              "            )\n",
              "          )\n",
              "          (intermediate): BertIntermediate(\n",
              "            (dense): Linear(in_features=768, out_features=3072, bias=True)\n",
              "          )\n",
              "          (output): BertOutput(\n",
              "            (dense): Linear(in_features=3072, out_features=768, bias=True)\n",
              "            (LayerNorm): LayerNorm((768,), eps=1e-12, elementwise_affine=True)\n",
              "            (dropout): Dropout(p=0.1, inplace=False)\n",
              "          )\n",
              "        )\n",
              "        (7): BertLayer(\n",
              "          (attention): BertAttention(\n",
              "            (self): BertSelfAttention(\n",
              "              (query): Linear(in_features=768, out_features=768, bias=True)\n",
              "              (key): Linear(in_features=768, out_features=768, bias=True)\n",
              "              (value): Linear(in_features=768, out_features=768, bias=True)\n",
              "              (dropout): Dropout(p=0.1, inplace=False)\n",
              "            )\n",
              "            (output): BertSelfOutput(\n",
              "              (dense): Linear(in_features=768, out_features=768, bias=True)\n",
              "              (LayerNorm): LayerNorm((768,), eps=1e-12, elementwise_affine=True)\n",
              "              (dropout): Dropout(p=0.1, inplace=False)\n",
              "            )\n",
              "          )\n",
              "          (intermediate): BertIntermediate(\n",
              "            (dense): Linear(in_features=768, out_features=3072, bias=True)\n",
              "          )\n",
              "          (output): BertOutput(\n",
              "            (dense): Linear(in_features=3072, out_features=768, bias=True)\n",
              "            (LayerNorm): LayerNorm((768,), eps=1e-12, elementwise_affine=True)\n",
              "            (dropout): Dropout(p=0.1, inplace=False)\n",
              "          )\n",
              "        )\n",
              "        (8): BertLayer(\n",
              "          (attention): BertAttention(\n",
              "            (self): BertSelfAttention(\n",
              "              (query): Linear(in_features=768, out_features=768, bias=True)\n",
              "              (key): Linear(in_features=768, out_features=768, bias=True)\n",
              "              (value): Linear(in_features=768, out_features=768, bias=True)\n",
              "              (dropout): Dropout(p=0.1, inplace=False)\n",
              "            )\n",
              "            (output): BertSelfOutput(\n",
              "              (dense): Linear(in_features=768, out_features=768, bias=True)\n",
              "              (LayerNorm): LayerNorm((768,), eps=1e-12, elementwise_affine=True)\n",
              "              (dropout): Dropout(p=0.1, inplace=False)\n",
              "            )\n",
              "          )\n",
              "          (intermediate): BertIntermediate(\n",
              "            (dense): Linear(in_features=768, out_features=3072, bias=True)\n",
              "          )\n",
              "          (output): BertOutput(\n",
              "            (dense): Linear(in_features=3072, out_features=768, bias=True)\n",
              "            (LayerNorm): LayerNorm((768,), eps=1e-12, elementwise_affine=True)\n",
              "            (dropout): Dropout(p=0.1, inplace=False)\n",
              "          )\n",
              "        )\n",
              "        (9): BertLayer(\n",
              "          (attention): BertAttention(\n",
              "            (self): BertSelfAttention(\n",
              "              (query): Linear(in_features=768, out_features=768, bias=True)\n",
              "              (key): Linear(in_features=768, out_features=768, bias=True)\n",
              "              (value): Linear(in_features=768, out_features=768, bias=True)\n",
              "              (dropout): Dropout(p=0.1, inplace=False)\n",
              "            )\n",
              "            (output): BertSelfOutput(\n",
              "              (dense): Linear(in_features=768, out_features=768, bias=True)\n",
              "              (LayerNorm): LayerNorm((768,), eps=1e-12, elementwise_affine=True)\n",
              "              (dropout): Dropout(p=0.1, inplace=False)\n",
              "            )\n",
              "          )\n",
              "          (intermediate): BertIntermediate(\n",
              "            (dense): Linear(in_features=768, out_features=3072, bias=True)\n",
              "          )\n",
              "          (output): BertOutput(\n",
              "            (dense): Linear(in_features=3072, out_features=768, bias=True)\n",
              "            (LayerNorm): LayerNorm((768,), eps=1e-12, elementwise_affine=True)\n",
              "            (dropout): Dropout(p=0.1, inplace=False)\n",
              "          )\n",
              "        )\n",
              "        (10): BertLayer(\n",
              "          (attention): BertAttention(\n",
              "            (self): BertSelfAttention(\n",
              "              (query): Linear(in_features=768, out_features=768, bias=True)\n",
              "              (key): Linear(in_features=768, out_features=768, bias=True)\n",
              "              (value): Linear(in_features=768, out_features=768, bias=True)\n",
              "              (dropout): Dropout(p=0.1, inplace=False)\n",
              "            )\n",
              "            (output): BertSelfOutput(\n",
              "              (dense): Linear(in_features=768, out_features=768, bias=True)\n",
              "              (LayerNorm): LayerNorm((768,), eps=1e-12, elementwise_affine=True)\n",
              "              (dropout): Dropout(p=0.1, inplace=False)\n",
              "            )\n",
              "          )\n",
              "          (intermediate): BertIntermediate(\n",
              "            (dense): Linear(in_features=768, out_features=3072, bias=True)\n",
              "          )\n",
              "          (output): BertOutput(\n",
              "            (dense): Linear(in_features=3072, out_features=768, bias=True)\n",
              "            (LayerNorm): LayerNorm((768,), eps=1e-12, elementwise_affine=True)\n",
              "            (dropout): Dropout(p=0.1, inplace=False)\n",
              "          )\n",
              "        )\n",
              "        (11): BertLayer(\n",
              "          (attention): BertAttention(\n",
              "            (self): BertSelfAttention(\n",
              "              (query): Linear(in_features=768, out_features=768, bias=True)\n",
              "              (key): Linear(in_features=768, out_features=768, bias=True)\n",
              "              (value): Linear(in_features=768, out_features=768, bias=True)\n",
              "              (dropout): Dropout(p=0.1, inplace=False)\n",
              "            )\n",
              "            (output): BertSelfOutput(\n",
              "              (dense): Linear(in_features=768, out_features=768, bias=True)\n",
              "              (LayerNorm): LayerNorm((768,), eps=1e-12, elementwise_affine=True)\n",
              "              (dropout): Dropout(p=0.1, inplace=False)\n",
              "            )\n",
              "          )\n",
              "          (intermediate): BertIntermediate(\n",
              "            (dense): Linear(in_features=768, out_features=3072, bias=True)\n",
              "          )\n",
              "          (output): BertOutput(\n",
              "            (dense): Linear(in_features=3072, out_features=768, bias=True)\n",
              "            (LayerNorm): LayerNorm((768,), eps=1e-12, elementwise_affine=True)\n",
              "            (dropout): Dropout(p=0.1, inplace=False)\n",
              "          )\n",
              "        )\n",
              "      )\n",
              "    )\n",
              "    (pooler): BertPooler(\n",
              "      (dense): Linear(in_features=768, out_features=768, bias=True)\n",
              "      (activation): Tanh()\n",
              "    )\n",
              "  )\n",
              "  (dropout): Dropout(p=0.1, inplace=False)\n",
              "  (classifier): Linear(in_features=768, out_features=2, bias=True)\n",
              ")"
            ]
          },
          "metadata": {
            "tags": []
          },
          "execution_count": 95
        }
      ]
    },
    {
      "cell_type": "code",
      "metadata": {
        "colab": {
          "base_uri": "https://localhost:8080/"
        },
        "id": "PzCQ7SbJhXxW",
        "outputId": "049dbc4b-dfb9-4e1a-80dd-a1fafa6c278e"
      },
      "source": [
        "accuracy_per_class(predictions, true_vals) "
      ],
      "execution_count": null,
      "outputs": [
        {
          "output_type": "stream",
          "text": [
            "Class: 1\n",
            "Accuracy:797/885\n",
            "\n",
            "Class: 0\n",
            "Accuracy:483/638\n",
            "\n"
          ],
          "name": "stdout"
        }
      ]
    },
    {
      "cell_type": "code",
      "metadata": {
        "colab": {
          "base_uri": "https://localhost:8080/"
        },
        "id": "7i8UqUJ5hdKA",
        "outputId": "69e4024c-f653-4535-d73f-38897a42e572"
      },
      "source": [
        "f1_score_func(predictions, true_vals)"
      ],
      "execution_count": null,
      "outputs": [
        {
          "output_type": "execute_result",
          "data": {
            "text/plain": [
              "0.8389351013047344"
            ]
          },
          "metadata": {
            "tags": []
          },
          "execution_count": 97
        }
      ]
    }
  ]
}